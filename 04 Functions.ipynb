{
 "cells": [
  {
   "cell_type": "markdown",
   "metadata": {},
   "source": [
    "# Einführung\n",
    "\n",
    "Funktionen sind eines der wichtigsten Konzepte in der Datenverarbeitung. Ähnlich wie bei mathematischen Funktionen nehmen sie Eingabedaten und geben eine oder mehrere Ausgaben zurück. Funktionen sind ideal für sich wiederholende Aufgaben, die eine bestimmte Operation auf verschiedenen Eingangsdaten ausführen. Sie können optional ein Ergebnis zurückgeben. Eine einfache Funktion kann z.B. die Koordinaten der Eckpunkte eines Dreiecks übernehmen und die Fläche zurückgeben. Jedes nicht-triviale Programm verwendet Funktionen und verfügt in vielen Fällen über viele Funktionen.\n",
    "\n",
    "## Ziele\n",
    "\n",
    "- Einführung in Aufbau und Verwendung von Funktionen \n",
    "- Rückgabewerte von Funktionen\n",
    "- Standardargumente\n",
    "- Rekursion"
   ]
  },
  {
   "cell_type": "markdown",
   "metadata": {},
   "source": [
    "# Was ist eine Funktion?\n",
    "\n",
    "Nachfolgend finden Sie eine Python-Funktion, die zwei Argumente (`a` und `b`) akzeptiert und `a + b + 1` zurückgibt:"
   ]
  },
  {
   "cell_type": "code",
   "execution_count": 1,
   "metadata": {},
   "outputs": [
    {
     "name": "stdout",
     "output_type": "stream",
     "text": [
      "8\n",
      "21\n"
     ]
    }
   ],
   "source": [
    "def sum_and_increment(a, b):\n",
    "    \"\"\"\"Return the sum of a and b, plus 1\"\"\"\n",
    "    return a + b + 1\n",
    "\n",
    "# Call the function\n",
    "m = sum_and_increment(3, 4)\n",
    "print(m)  # Expect 8\n",
    "\n",
    "# Call the function\n",
    "m = 10\n",
    "n = sum_and_increment(m, m)\n",
    "print(n)  # Expect 21"
   ]
  },
  {
   "cell_type": "markdown",
   "metadata": {},
   "source": [
    "Anhand des obigen Beispiels können wir die Anatomie einer Python-Funktion untersuchen.\n",
    "\n",
    "- Eine Funktion wird mit `def` deklariert, gefolgt vom Funktionsnamen `sum_and_increment`, gefolgt von der Liste\n",
    "   der Argumente, die an die Funktion zwischen den Klammern \"(a, b)\" übergeben werden sollen, und endet mit einem Doppelpunkt:\n",
    "  \n",
    "  ```python\n",
    "  def sum_and_increment(a, b):\n",
    "  ```\n",
    "\n",
    "- Als nächstes kommt der Körper der Funktion. Der Körper der Funktion ist um mindestens vier Leerzeichen relativ zu \"def\" eingerückt.\n",
    "   In Python ist der erste Teil des Funktionskörpers eine optionale Dokumentationszeichenfolge, die in Worten beschreibt, was die Funktion tut\n",
    "  \n",
    "  ```python  \n",
    "      \"Return the sum of a and b, plus 1\"\n",
    "  ```\n",
    "  \n",
    "- Es ist empfehlenswert, einen \"docstring\" einzuschließen. Nach der Dokumentationszeichenfolge folgt der Code, den die Funktion ausführt. Am Ende einer Funktion steht normalerweise eine 'return'-Anweisung die definiert, welches\n",
    "   Ergebnis die Funktion zurückgeben soll:\n",
    "  \n",
    "  ```python\n",
    "      return a + b + 1\n",
    "  ```\n",
    "\n",
    "- Alle Elemente, die auf die gleiche Einrückungsebene (oder weniger) wie `def` gesetzt sind, fallen außerhalb des Funktionskörpers. Die meisten Funktionen benötigen Argumente und geben einen Wert zurück, dies ist jedoch nicht unbedingt erforderlich.\n",
    "\n",
    "Unten sehen Sie ein Beispiel für eine Funktion, die keine Argumente akzeptiert oder Variablen zurückgibt."
   ]
  },
  {
   "cell_type": "code",
   "execution_count": 2,
   "metadata": {},
   "outputs": [
    {
     "name": "stdout",
     "output_type": "stream",
     "text": [
      "The function 'print_message' has been called.\n"
     ]
    }
   ],
   "source": [
    "def print_message():\n",
    "    print(\"The function 'print_message' has been called.\")\n",
    "\n",
    "print_message()"
   ]
  },
  {
   "cell_type": "markdown",
   "metadata": {},
   "source": [
    "# Motivation\n",
    "\n",
    "Functions allow computer code to be re-used multiple times with different input data. It is good to re-use code as much as possible because we then focus testing and debugging efforts, and maybe also optimisations, on small pieces of code that are then re-used. The more code that is written, the less frequently sections of code are used, and as a consequence the greater the likelihood of errors.\n",
    "\n",
    "Functions can also enhance the readability of a program, and make it easier to collaborate with others. Functions allow us to focus on *what* a program does at a high level \n",
    "rather than the details of *how* it does it. Low-level implementation details are *encapsulated* in functions. To understand at a high level what a program does, we usually just need to know what data is passed into a function and what the function returns. It is not necessary to know the precise details of how a function is implemented to grasp the structure of a program and how it works. For example, we might need to know that a function computes and returns $\\sin(x)$; we don't usually need to know *how* it computes sine.\n",
    "\n",
    "\n",
    "Zweck\n",
    "\n",
    "Funktionen ermöglichen die mehrfache Wiederverwendung von Computercode mit unterschiedlichen Eingangsdaten. Es ist gut, Code so weit wie möglich wiederzuverwenden, da wir uns beim Testen und Debuggen und möglicherweise auch bei der Optimierung auf kleine Codeteile konzentrieren, die dann wiederverwendet werden. Je mehr Code geschrieben wird, desto seltener werden Codeabschnitte verwendet und desto höher ist die Fehlerwahrscheinlichkeit.\n",
    "\n",
    "Funktionen können auch die Lesbarkeit eines Programms verbessern und die Zusammenarbeit mit anderen erleichtern. Mit Funktionen können wir uns darauf konzentrieren, * was * ein Programm auf hohem Niveau leistet\n",
    "anstatt die Details von * wie * macht es. Low-Level-Implementierungsdetails sind in Funktionen * gekapselt *. Um auf hoher Ebene zu verstehen, was ein Programm bewirkt, müssen wir normalerweise nur wissen, welche Daten in eine Funktion eingegeben werden und was die Funktion zurückgibt. Es ist nicht erforderlich, die genauen Details der Implementierung einer Funktion zu kennen, um die Struktur eines Programms zu verstehen und wie es funktioniert. Beispielsweise müssen wir möglicherweise wissen, dass eine Funktion $ \\ sin (x) $ berechnet und zurückgibt. Wir müssen normalerweise nicht wissen, * wie * es Sinus berechnet.\n",
    "\n",
    "Nachfolgend finden Sie ein einfaches Beispiel für eine Funktion, die in einer `for`-Schleife mehrfach aufgerufen wird."
   ]
  },
  {
   "cell_type": "code",
   "execution_count": 3,
   "metadata": {},
   "outputs": [
    {
     "name": "stdout",
     "output_type": "stream",
     "text": [
      "Case A: 3 values\n",
      "0\n",
      "1\n",
      "8\n",
      "Case B: 12 values\n",
      "0\n",
      "1\n",
      "8\n",
      "27\n",
      "64\n",
      "125\n",
      "36\n",
      "49\n",
      "64\n",
      "81\n",
      "100\n",
      "0\n"
     ]
    }
   ],
   "source": [
    "def process_value(x):\n",
    "    \"Return a value that depends on the input value x \"\n",
    "    if x > 10:\n",
    "        return 0\n",
    "    elif x > 5:\n",
    "        return x*x\n",
    "    elif x > 0:\n",
    "        return x**3\n",
    "    else:\n",
    "        return x\n",
    "\n",
    "    \n",
    "print(\"Case A: 3 values\")    \n",
    "for y in range(3):\n",
    "    print(process_value(y))\n",
    "\n",
    "print(\"Case B: 12 values\")    \n",
    "for y in range(12):\n",
    "    print(process_value(y))"
   ]
  },
  {
   "cell_type": "markdown",
   "metadata": {},
   "source": [
    "Bei Verwendung einer Funktion mussten wir die Anweisung `if-elif-else` innerhalb jeder Schleife nicht duplizieren, \n",
    "wir haben es wiederverwendet.\n",
    "Mit einer Funktion müssen wir nur die Art und Weise ändern, wie wir die Zahl `x` an einer Stelle verarbeiten."
   ]
  },
  {
   "cell_type": "markdown",
   "metadata": {},
   "source": [
    "# Funktions-Argumente\n",
    "\n",
    "Die Reihenfolge, in der Funktionsargumente in der Funktionsdeklaration aufgeführt sind, ist im allgemeinen die Reihenfolge, in der Argumente an eine Funktion übergeben werden sollen.\n",
    "\n",
    "Bei der Funktion `sum_and_increment`, die oben deklariert wurde, können wir die Reihenfolge der Argumente ändern, und das Ergebnis würde sich nicht ändern, da die Eingabeargumente einfach summiert werden. Wenn wir jedoch ein Argument vom anderen subtrahieren, hängt das Ergebnis von der Eingabereihenfolge ab:"
   ]
  },
  {
   "cell_type": "code",
   "execution_count": 4,
   "metadata": {},
   "outputs": [
    {
     "name": "stdout",
     "output_type": "stream",
     "text": [
      "-1\n",
      "3\n"
     ]
    }
   ],
   "source": [
    "def subtract_and_increment(a, b):\n",
    "    \"Return a minus b, plus 1\"\n",
    "    return a - b + 1\n",
    "\n",
    "alpha, beta = 3, 5  # This is short hand notation for alpha = 3\n",
    "                    #                                 beta = 5\n",
    "\n",
    "# Call the function and print the return value\n",
    "print(subtract_and_increment(alpha, beta))  # Expect -1\n",
    "print(subtract_and_increment(beta, alpha))  # Expect 3"
   ]
  },
  {
   "cell_type": "markdown",
   "metadata": {},
   "source": [
    "Für kompliziertere Funktionen könnte es zahlreiche Argumente geben. Folglich wird es beim Aufruf der Funktion einfacher, versehentlich die falsche Reihenfolge zu verwenden (was zu einem Fehler führt). In Python können Sie die Wahrscheinlichkeit eines Fehlers verringern, indem Sie *named* -Argumente verwenden. In diesem Fall spielt die Reihenfolge keine Rolle, z. B .:"
   ]
  },
  {
   "cell_type": "code",
   "execution_count": 5,
   "metadata": {},
   "outputs": [
    {
     "name": "stdout",
     "output_type": "stream",
     "text": [
      "-1\n",
      "-1\n"
     ]
    }
   ],
   "source": [
    "print(subtract_and_increment(a=alpha, b=beta))  # Expect -1\n",
    "print(subtract_and_increment(b=beta, a=alpha))  # Expect -1"
   ]
  },
  {
   "cell_type": "markdown",
   "metadata": {},
   "source": [
    "Die Verwendung benannter Argumente kann die Lesbarkeit von Programmen verbessern und Fehler reduzieren."
   ]
  },
  {
   "cell_type": "markdown",
   "metadata": {},
   "source": [
    "## Was kann als Funktionsargument übergeben werden?\n",
    "\n",
    "Viele Objekttypen (einschließlich anderer Funktionen) können als Argumente an Funktionen übergeben werden. Unten\n",
    "ist eine Funktion, `is_positive`, die prüft, ob der Wert einer Funktion $f$ beim Argumentwert $x$ positiv ist:"
   ]
  },
  {
   "cell_type": "code",
   "execution_count": 6,
   "metadata": {},
   "outputs": [
    {
     "name": "stdout",
     "output_type": "stream",
     "text": [
      "True\n",
      "False\n"
     ]
    }
   ],
   "source": [
    "def f0(x):\n",
    "    \"Compute x^2 - 1\"\n",
    "    return x*x - 1\n",
    "\n",
    "\n",
    "def f1(x):\n",
    "    \"Compute -x^2 + 2x + 1\"\n",
    "    return -x*x + 2*x + 1\n",
    "\n",
    "\n",
    "def is_positive(f, x):\n",
    "    \"Check if the function value f(x) is positive\"\n",
    "\n",
    "    # Evaluate the function passed into the function for the value of x \n",
    "    # passed into the function\n",
    "    if f(x) > 0:\n",
    "        return True\n",
    "    else:\n",
    "        return False\n",
    "\n",
    "    \n",
    "# Value of x for which we want to test a function sign\n",
    "x = 4.5\n",
    "\n",
    "# Test function f0\n",
    "print(is_positive(f0, x))\n",
    "\n",
    "# Test function f1\n",
    "print(is_positive(f1, x))"
   ]
  },
  {
   "cell_type": "markdown",
   "metadata": {},
   "source": [
    "## Default arguments\n",
    "\n",
    "It can sometimes be helpful for functions to have 'default' argument values which can be overridden. In some cases it just saves the programmer effort - they can write less code. In other cases it can allow us to use a function for a wider range of problems. For example, we could use the same function for vectors of length 2 and 3 if the default value for the third component is zero.\n",
    "\n",
    "As an example we consider the position $r$ of a particle with initial position $r_{0}$ and initial velocity $v_{0}$, and subject to an acceleration $a$. The position $r$ is given by:  \n",
    "\n",
    "Es kann manchmal hilfreich sein, dass Funktionen Standard-Argumentwerte haben, die überschrieben werden können. In einigen Fällen spart dies dem Programmierer nur den Aufwand - er kann weniger Code schreiben. In anderen Fällen können wir damit eine Funktion für ein breiteres Spektrum von Problemen verwenden. Zum Beispiel könnten wir dieselbe Funktion für Vektoren der Länge 2 und 3 verwenden, wenn der Standardwert für die dritte Komponente Null ist.\n",
    "\n",
    "Als Beispiel betrachten wir die Position $ r $ eines Partikels mit der Anfangsposition $ r_ {0} $ und der Anfangsgeschwindigkeit $ v_ {0} $ und unterliegen einer Beschleunigung $ a $. Die Position $ r $ wird gegeben durch:\n",
    "\n",
    "$$\n",
    "r = r_0 + v_0 t + \\frac{1}{2} a t^{2}\n",
    "$$\n",
    "\n",
    "Say for a particular application the acceleration is almost always due to gravity ($g$), and $g = 9.81$ m s$^{-1}$ is sufficiently accurate in most cases. Moreover, the initial velocity is usually zero. We might therefore implement a function as:\n",
    "\n",
    "Angenommen, für eine bestimmte Anwendung ist die Beschleunigung fast immer auf die Schwerkraft zurückzuführen ($ g $), und $ g = 9,81 $ m s $ ^ {- 1} $ ist in den meisten Fällen ausreichend genau. Darüber hinaus ist die Anfangsgeschwindigkeit normalerweise Null. Wir könnten daher eine Funktion implementieren als:"
   ]
  },
  {
   "cell_type": "code",
   "execution_count": 7,
   "metadata": {},
   "outputs": [
    {
     "name": "stdout",
     "output_type": "stream",
     "text": [
      "0.8038\n"
     ]
    }
   ],
   "source": [
    "def position(t, r0, v0=0.0, a=-9.81):\n",
    "    \"Compute position of an accelerating particle.\"\n",
    "    return r0 + v0*t + 0.5*a*t*t\n",
    "\n",
    "# Position after 0.2 s (t) when dropped from a height of 1 m (r0) \n",
    "# with v0=0.0 and a=-9.81\n",
    "p = position(0.2, 1.0)\n",
    "print(p)"
   ]
  },
  {
   "cell_type": "markdown",
   "metadata": {},
   "source": [
    "Am Äquator ist die Erdbeschleunigung aufgrund der Gravität etwas geringer, und für diesen Fall, in dem dieser Unterschied wichtig ist, können wir die Funktion mit der Erdbeschleunigung am Äquator aufrufen:"
   ]
  },
  {
   "cell_type": "code",
   "execution_count": 8,
   "metadata": {},
   "outputs": [
    {
     "name": "stdout",
     "output_type": "stream",
     "text": [
      "0.8044\n"
     ]
    }
   ],
   "source": [
    "# Position after 0.2 s (t) when dropped from a height of  1 m (r0)\n",
    "p = position(0.2, 1, 0.0, -9.78)\n",
    "print(p)"
   ]
  },
  {
   "cell_type": "markdown",
   "metadata": {},
   "source": [
    "Beachten Sie, dass wir auch die Anfangsgeschwindigkeit übergeben haben - andernfalls könnte das Programm annehmen, dass unsere Beschleunigung tatsächlich die Geschwindigkeit war. Wir können die Standardgeschwindigkeit verwenden und die Beschleunigung mithilfe benannter Argumente angeben:"
   ]
  },
  {
   "cell_type": "code",
   "execution_count": 9,
   "metadata": {},
   "outputs": [
    {
     "name": "stdout",
     "output_type": "stream",
     "text": [
      "0.8044\n"
     ]
    }
   ],
   "source": [
    "# Position after 0.2 s (t) when dropped from a height of  1 m (r0)\n",
    "p = position(0.2, 1, a=-9.78)\n",
    "print(p)"
   ]
  },
  {
   "cell_type": "markdown",
   "metadata": {},
   "source": [
    "# Rückgabe-Argumente (Return arguments)\n",
    "\n",
    "Die meisten Funktionen, aber nicht alle, geben Daten zurück. Oben sind Beispiele, die einen einzelnen Wert (Objekt) zurückgeben, und ein Beispiel, in dem es keinen Rückgabewert gibt. Python-Funktionen können mehrere Rückgabewerte haben. Zum Beispiel könnten wir eine Funktion haben, die drei Werte annimmt und das Maximum, das Minimum und den Mittelwert zurückgibt, z.B.:"
   ]
  },
  {
   "cell_type": "code",
   "execution_count": 10,
   "metadata": {},
   "outputs": [
    {
     "name": "stdout",
     "output_type": "stream",
     "text": [
      "-20 0.5 -6.466666666666666\n"
     ]
    }
   ],
   "source": [
    "def compute_max_min_mean(x0, x1, x2):\n",
    "    \"Return maximum, minimum and mean values\"\n",
    "    \n",
    "    x_min = x0\n",
    "    if x1 < x_min:\n",
    "        x_min = x1\n",
    "    if x2 < x_min:\n",
    "        x_min = x2\n",
    "\n",
    "    x_max = x0\n",
    "    if x1 > x_max:\n",
    "        x_max = x1\n",
    "    if x2 > x_max:\n",
    "        x_max = x2\n",
    "\n",
    "    x_mean = (x0 + x1 + x2)/3    \n",
    "        \n",
    "    return x_min, x_max, x_mean\n",
    "\n",
    "\n",
    "xmin, xmax, xmean = compute_max_min_mean(0.5, 0.1, -20)\n",
    "print(xmin, xmax, xmean)"
   ]
  },
  {
   "cell_type": "markdown",
   "metadata": {},
   "source": [
    "Diese Funktion funktioniert, aber es gibt bessere Möglichkeiten, die Funktionalität mithilfe von Listen oder Tupeln zu implementieren. Das wird in einem späteren notebook demonstriert."
   ]
  },
  {
   "cell_type": "markdown",
   "metadata": {},
   "source": [
    "# Gültigkeitsbereich (Scope)\n",
    "\n",
    "Funktionen haben einen lokalen Gültigkeitsbereich. Dies bedeutet, dass innerhalb einer Funktion deklarierte Variablen außerhalb der Funktion nicht sichtbar sind. Dies ist eine sehr gute Sache - es bedeutet, dass wir uns nicht um Variablen kümmern müssen, die in einer Funktion deklariert werden und unerwartete Auswirkungen auf andere Teile eines Programms haben. Hier ist ein einfaches Beispiel:"
   ]
  },
  {
   "cell_type": "code",
   "execution_count": 11,
   "metadata": {},
   "outputs": [
    {
     "name": "stdout",
     "output_type": "stream",
     "text": [
      "10.0\n"
     ]
    }
   ],
   "source": [
    "# Assign 10.0 to the varibale a\n",
    "a = 10.0\n",
    "\n",
    "# A simple function that creates a variable 'a' and returns the value\n",
    "def dummy():\n",
    "    c = 5\n",
    "    a = \"A simple function\"\n",
    "    return a\n",
    "\n",
    "# Call the function\n",
    "b = dummy()\n",
    "\n",
    "# Check that the function declaration of 'a' has not affected \n",
    "# the variable 'a' outside of the function\n",
    "print(a)\n",
    "\n",
    "# This would throw an error - the variable c is not visible outside of the function\n",
    "# print(c)"
   ]
  },
  {
   "cell_type": "markdown",
   "metadata": {},
   "source": [
    "Die außerhalb der Funktion deklarierte Variable `a` bleibt davon unberührt, was innerhalb der Funktion ausgeführt wird.\n",
    "Ebenso ist die  in der Funktion deklarierte Variable `c` außerhalb der Funktion nicht 'sichtbar'.\n",
    "\n",
    "Es gibt noch mehr Regeln für das Scoping, die wir vorerst überspringen können."
   ]
  },
  {
   "cell_type": "markdown",
   "metadata": {},
   "source": [
    "# Rekursion mit Funktionen\n",
    "\n",
    "Eine klassische Konstruktion mit Funktionen ist die Rekursion, bei der eine Funktion sich selbst aufruft.\n",
    "Rekursion kann sehr mächtig und manchmal auch zunächst verwirrend sein. Wir demonstrieren an einem bekannten Beispiel die Fibonacci-Zahlenreihe."
   ]
  },
  {
   "cell_type": "markdown",
   "metadata": {
    "collapsed": true
   },
   "source": [
    "## Fibonacci Zahlenreihe\n",
    "\n",
    "Die Fibonacci Reihe ist rekursiv definiert, d.h. der $n$-te Wert $f_{n}$ wird berechnet aus den vorhergehenden Werten $f_{n-1}$ und $f_{n-2}$:\n",
    "\n",
    "$$\n",
    "f_n = f_{n-1} + f_{n-2}\n",
    "$$\n",
    "\n",
    "für $n > 1$, und mit $f_0 = 0$ und $f_1 = 1$. "
   ]
  },
  {
   "cell_type": "markdown",
   "metadata": {},
   "source": [
    "Nachfolgend finden Sie eine Funktion, die die $n$ -te Zahl in der Fibonacci-Sequenz mithilfe einer `for`-Schleife innerhalb der Funktion berechnet."
   ]
  },
  {
   "cell_type": "code",
   "execution_count": 12,
   "metadata": {},
   "outputs": [
    {
     "name": "stdout",
     "output_type": "stream",
     "text": [
      "55\n"
     ]
    }
   ],
   "source": [
    "def fib(n):\n",
    "    \"Compute the nth Fibonacci number\"\n",
    "    # Starting values for f0 and f1\n",
    "    f0, f1 = 0, 1\n",
    "\n",
    "    # Handle cases n==0 and n==1\n",
    "    if n == 0:\n",
    "        return 0\n",
    "    elif n == 1:\n",
    "        return 1\n",
    "    \n",
    "    # Start loop (from n = 2)    \n",
    "    for i in range(2, n + 1):\n",
    "        # Compute next term in sequence\n",
    "        f = f1 + f0\n",
    "\n",
    "        # Update f0 and f1    \n",
    "        f0 = f1\n",
    "        f1 = f\n",
    "\n",
    "    # Return Fibonacci number\n",
    "    return f\n",
    "\n",
    "print(fib(10))"
   ]
  },
  {
   "cell_type": "markdown",
   "metadata": {},
   "source": [
    "Da die Fibonacci-Reihe eine rekursive Struktur hat, wobei der $n$ -te Term aus den $n-1$ - und $n-2$ -Werten berechnet wird, könnten wir eine Funktion schreiben, die diese rekursive Struktur verwendet:"
   ]
  },
  {
   "cell_type": "code",
   "execution_count": 13,
   "metadata": {},
   "outputs": [
    {
     "name": "stdout",
     "output_type": "stream",
     "text": [
      "55\n"
     ]
    }
   ],
   "source": [
    "def f(n): \n",
    "    \"Compute the nth Fibonacci number using recursion\"\n",
    "    if n == 0:\n",
    "        return 0  # This doesn't call f, so it breaks out of the recursion loop\n",
    "    elif n == 1:\n",
    "        return 1  # This doesn't call f, so it breaks out of the recursion loop\n",
    "    else:\n",
    "        return f(n - 1) + f(n - 2)  # This calls f for n-1 and n-2 (recursion), and returns the sum \n",
    "\n",
    "print(f(10))"
   ]
  },
  {
   "cell_type": "markdown",
   "metadata": {},
   "source": [
    "Wie erwartet (wenn die Implementierungen korrekt sind) liefern die beiden Implementierungen dasselbe Ergebnis.\n",
    "Die rekursive Version ist einfach und hat eine 'mehr mathematische' Struktur. Es ist gut, dass ein Programm, das eine mathematische Aufgabe ausführt, das mathematische Problem genau widerspiegelt. Dies macht es einfacher, auf hoher Ebene zu verstehen, was das Programm macht.\n",
    "\n",
    "Bei der Rekursion muss darauf geachtet werden, dass ein Programm nicht in eine unendliche Rekursionsschleife eintritt. Es muss einen Abbruch-Mechanismus geben, um den Rekursionszyklus zu beenden."
   ]
  },
  {
   "cell_type": "markdown",
   "metadata": {},
   "source": [
    "# Übergabe \"by  value, reference oder object\"\n",
    "\n",
    "*Dieser Abschnitt dient als Referenz und sollte übersprungen werden, wenn Sie Anfänger in der Programmierung sind. Es ist für diesen Kurs nicht notwendig, kann aber von Interesse sein für diejenigen Nutzer mit mehr Erfahrung. *\n",
    "\n",
    "Wenn Sie etwas an eine Funktion übergeben, wird es *passed by value*, *passed by reference*, or *passed by object* übergeben.\n",
    "Das Modell hängt von der Sprache ab.\n",
    "\n",
    "Wertübergabe (Übergabe per Wert) bedeutet, dass die in der Funktion verfügbare Version eine Kopie des Werts außerhalb ist.\n",
    "Ein einfaches Beispiel ist:"
   ]
  },
  {
   "cell_type": "code",
   "execution_count": 14,
   "metadata": {},
   "outputs": [
    {
     "name": "stdout",
     "output_type": "stream",
     "text": [
      "Value of variable 'a' inside function: 10\n",
      "Value of variable 'a' post-function: 5\n"
     ]
    }
   ],
   "source": [
    "def mult_by_two(a):\n",
    "    a *= 2\n",
    "    print(\"Value of variable \\'a\\' inside function:\", a)\n",
    "    \n",
    "a = 5\n",
    "mult_by_two(a)\n",
    "print(\"Value of variable \\'a\\' post-function:\", a)"
   ]
  },
  {
   "cell_type": "markdown",
   "metadata": {},
   "source": [
    "Referenzübergabe bedeutet, dass die an die Funktion übergebene Version geändert wird, anstatt eine Kopie zu erstellen."
   ]
  },
  {
   "cell_type": "code",
   "execution_count": 15,
   "metadata": {},
   "outputs": [
    {
     "name": "stdout",
     "output_type": "stream",
     "text": [
      "Value of variable 'a' inside function: [2, 3, 2, 3]\n",
      "Value of variable 'a' post-function: [2, 3, 2, 3]\n"
     ]
    }
   ],
   "source": [
    "a = [2, 3]\n",
    "mult_by_two(a)\n",
    "print(\"Value of variable \\'a\\' post-function:\", a)"
   ]
  },
  {
   "cell_type": "markdown",
   "metadata": {},
   "source": [
    "Python verwendet ein Modell der Objekt-Übergabe. Das Verhalten hängt von den Details des übergebenen Objekts ab.\n",
    "In vielen Fällen müssen eindeutige Objekte zurückgegeben werden."
   ]
  },
  {
   "cell_type": "markdown",
   "metadata": {},
   "source": [
    "# Exercises\n",
    "\n",
    "Complete now the [04 Exercises](Exercises/04%20Exercises.ipynb) notebook."
   ]
  }
 ],
 "metadata": {
  "kernelspec": {
   "display_name": "Python 3",
   "language": "python",
   "name": "python3"
  },
  "language_info": {
   "codemirror_mode": {
    "name": "ipython",
    "version": 3
   },
   "file_extension": ".py",
   "mimetype": "text/x-python",
   "name": "python",
   "nbconvert_exporter": "python",
   "pygments_lexer": "ipython3",
   "version": "3.7.2"
  }
 },
 "nbformat": 4,
 "nbformat_minor": 1
}
