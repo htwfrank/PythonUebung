{
 "cells": [
  {
   "cell_type": "markdown",
   "metadata": {},
   "source": [
    "geklont von: https://github.com/CambridgeEngineering/PartIA-Computing-Michaelmas\n",
    "\n",
    "# Einführungen\n",
    "\n",
    "Steueranweisungen ermöglichen einem Programm, seine Arbeitsweise abhängig von den eingegebenen oder anderen Daten zu ändern.\n",
    "Typische Abläufe in einem Computerprogramm umfassen Strukturen wie:\n",
    "\n",
    "- if 'X' do task 'A', else if 'Y' do task 'B'\n",
    "- führe die Aufgabe 'A' 'N' mal durch\n",
    "- führe die Aufgabe 'B' solange aus bis 'X' wahr ist\n",
    "\n",
    "Diese Flüsse werden mit sogenannten Steueranweisungen implementiert. Sie werden auch als Verzweigung bezeichnet - der Pfad, dem ein Programm folgt, hängt von den Eingabedaten ab. Steueranweisungen sind ein Hauptbestandteil aller nicht trivialen Computerprogramme.\n",
    "\n",
    "## Ziele\n",
    "- Einführung boolescher Typen\n",
    "- Vergleichsoperatoren einführen\n",
    "- Lernen Sie, Steueranweisungen zu verwenden\n",
    "\n",
    "\n",
    "## Beispiel für Steueranweisung in Pseudo Code\n",
    "\n",
    "Ein elektrischer Fensterheber, der an einen Regensensor und ein Temperatur-Messgerät angeschlossen ist\n",
    "kann durch folgendes Programm gesteuert werden:\n",
    "\n",
    "    if raining:  # If raining, close the window\n",
    "        close_window()\n",
    "    else if temperature > 26:  # If the temperature is over 26 deg, open window\n",
    "        open_window()\n",
    "    else if temperature < 19:  # If the temperature is below 19 deg, close window\n",
    "        close_window()\n",
    "    else:  # Otherwise, do nothing and leave window as it is\n",
    "        pass\n",
    "\n",
    "Man kann sich leicht vorstellen, dass das Programm mit der Tageszeit und dem Wochentag erweitert oder an einen Rauchmelder angeschlossen wird.\n",
    "\n",
    "Wir werden verschiedene Typen von Steueranweisungen betrachten, aber zuerst müssen wir boolesche Typen und Vergleichsoperatoren einführen."
   ]
  },
  {
   "cell_type": "markdown",
   "metadata": {},
   "source": [
    "# Booleans\n",
    "\n",
    "Bevor wir mit Steueranweisungen beginnen, müssen wir Booleans einführen.\n",
    "Ein Boolean ist ein Variablentyp, der einen von zwei Werten annehmen kann - wahr oder falsch (true or false)."
   ]
  },
  {
   "cell_type": "code",
   "execution_count": 1,
   "metadata": {},
   "outputs": [
    {
     "name": "stdout",
     "output_type": "stream",
     "text": [
      "True\n",
      "False\n"
     ]
    }
   ],
   "source": [
    "a = True\n",
    "print(a)\n",
    "\n",
    "a = False\n",
    "print(a)"
   ]
  },
  {
   "cell_type": "markdown",
   "metadata": {},
   "source": [
    "Booleans werden in Steueranweisungen ausgiebig verwendet."
   ]
  },
  {
   "cell_type": "markdown",
   "metadata": {},
   "source": [
    "# Vergleichsoperatoren\n",
    "\n",
    "Wir möchten oft in einem Programm prüfen, wie zwei Variablen miteinander zusammenhängen, zum Beispiel, wenn eine kleiner ist als die andere oder ob zwei Variablen gleich sind. Wir machen dies mit 'Vergleichsoperatoren' wie `<`, `<=`, `>`, `>=` und `==`.\n",
    "\n",
    "Im folgenden Beispiel wird geprüft, ob eine Zahl `a` kleiner oder größer als eine Zahl `b` ist:"
   ]
  },
  {
   "cell_type": "code",
   "execution_count": 2,
   "metadata": {},
   "outputs": [
    {
     "name": "stdout",
     "output_type": "stream",
     "text": [
      "False\n",
      "True\n"
     ]
    }
   ],
   "source": [
    "a = 10.0\n",
    "b = 9.9\n",
    "print(a < b)\n",
    "print(a > b)"
   ]
  },
  {
   "cell_type": "markdown",
   "metadata": {},
   "source": [
    "Die Gleichheit wird mit `==` geprüft, und mit `!=` wird geprüft, ob zwei Variablen ungleich sind. Nachfolgend einige Beispiele zum Durchlesen."
   ]
  },
  {
   "cell_type": "code",
   "execution_count": 3,
   "metadata": {},
   "outputs": [
    {
     "name": "stdout",
     "output_type": "stream",
     "text": [
      "Is a equal to b?\n",
      "False\n",
      "Is a equal to c?\n",
      "True\n",
      "Is a not equal to c?\n",
      "False\n",
      "Is a less than or equal to b?\n",
      "False\n",
      "Is a less than or equal to c?\n",
      "True\n",
      "Is colour0 the same as colour1?\n",
      "False\n"
     ]
    }
   ],
   "source": [
    "a = 14\n",
    "b = -9\n",
    "c = 14\n",
    "\n",
    "# Check if a is equal to b \n",
    "print(\"Is a equal to b?\")\n",
    "print(a == b)\n",
    "\n",
    "# Check if a is equal to c \n",
    "print(\"Is a equal to c?\")\n",
    "print(a == c)\n",
    "\n",
    "# Check if a is not equal to c \n",
    "print(\"Is a not equal to c?\")\n",
    "print(a != c)\n",
    "\n",
    "# Check if a is less than or equal to b \n",
    "print(\"Is a less than or equal to b?\")\n",
    "print(a <= b)\n",
    "\n",
    "# Check if a is less than or equal to c \n",
    "print(\"Is a less than or equal to c?\")\n",
    "print(a <= c)\n",
    "\n",
    "# Check if two colours are the same\n",
    "colour0 = 'blue'\n",
    "colour1 = 'green'\n",
    "print(\"Is colour0 the same as colour1?\")\n",
    "print(colour0 == colour1)"
   ]
  },
  {
   "cell_type": "markdown",
   "metadata": {},
   "source": [
    "# Boolean operators\n",
    "\n",
    "In den obigen Ausführungen haben wir jeweils nur einen Vergleich verwendet. Boolesche Operatoren ermöglichen es uns, mehrere Prüfungen mit den Operatoren `und`, `oder` und `nicht` zusammenzusetzen.\n",
    "Die Operatoren '`and`' und '`or`' haben auf beiden Seiten einen Booleschen Wert.\n",
    "\n",
    "```python\n",
    "X and Y\n",
    "```\n",
    "ergibt `True` falls  `X` *und* `Y` beide `true` sind, anderfalls `false`. \n",
    "```python\n",
    "X or Y\n",
    "```\n",
    "ergibt `True` falls `X` *oder* `Y` `true` sind, anderfalls `false`.\n",
    "\n",
    "Hier sind einige Beispiele:"
   ]
  },
  {
   "cell_type": "code",
   "execution_count": 4,
   "metadata": {},
   "outputs": [
    {
     "name": "stdout",
     "output_type": "stream",
     "text": [
      "False\n"
     ]
    }
   ],
   "source": [
    "# If 10 < 9 (false) and 15 < 20 (true) -> false\n",
    "print(10 < 9 and 15 < 20)"
   ]
  },
  {
   "cell_type": "code",
   "execution_count": 5,
   "metadata": {},
   "outputs": [
    {
     "name": "stdout",
     "output_type": "stream",
     "text": [
      "True\n"
     ]
    }
   ],
   "source": [
    "# Check if 10 < 9 (false) or 15 < 20 (true) -> true\n",
    "print(10 < 9 or 15 < 20)"
   ]
  },
  {
   "cell_type": "markdown",
   "metadata": {},
   "source": [
    "Die Bedeutung der Anweisung wird klar, wenn Sie sie von links nach rechts lesen.\n",
    "\n",
    "Unten ist ein sehr einfaches Beispiel, das angesichts der aktuellen Tageszeit berichtet\n",
    "Below is a very simple example that, given the current time of day reports \n",
    "\n",
    "- true if it is lunch time; and \n",
    "- true if we are outside of working hours.\n",
    "\n",
    "\n",
    "wahr, wenn es Mittagszeit ist; und\n",
    "wahr, wenn wir außerhalb der Arbeitszeit sind."
   ]
  },
  {
   "cell_type": "code",
   "execution_count": 6,
   "metadata": {},
   "outputs": [
    {
     "name": "stdout",
     "output_type": "stream",
     "text": [
      "Is it lunchtime?\n",
      "True\n",
      "Are we outside of working hours?\n",
      "False\n"
     ]
    }
   ],
   "source": [
    "time = 13.05  # The current time\n",
    "\n",
    "work_starts = 8.00  # Start of working day \n",
    "work_ends = 17.00  # End of working day\n",
    "\n",
    "lunch_starts = 13.00  # Start of lunchtime\n",
    "lunch_ends = 14.00  # End of lunchtime\n",
    "\n",
    "# Check if it's lunch time\n",
    "print(\"Is it lunchtime?\")\n",
    "is_lunchtime = time >= lunch_starts and time < lunch_ends\n",
    "print(is_lunchtime)\n",
    "\n",
    "# Check if we're outside of working hours\n",
    "print(\"Are we outside of working hours?\")\n",
    "outside_working_hours = time < work_starts or time >= work_ends\n",
    "print(outside_working_hours)"
   ]
  },
  {
   "cell_type": "markdown",
   "metadata": {},
   "source": [
    "Beachten Sie, dass die Vergleichsoperatoren (`> =`, `<=`, `<` und `>`) vor den booleschen Operatoren (`und`, `oder`) ausgewertet werden.\n",
    "\n",
    "In Python negiert der Operator '`not`' eine Anweisung, z. B .:"
   ]
  },
  {
   "cell_type": "code",
   "execution_count": 7,
   "metadata": {},
   "outputs": [
    {
     "name": "stdout",
     "output_type": "stream",
     "text": [
      "True\n"
     ]
    }
   ],
   "source": [
    "# Is 12 *not* less than 7 -> true\n",
    "a = 12\n",
    "b = 7\n",
    "print(not a < b)"
   ]
  },
  {
   "cell_type": "markdown",
   "metadata": {},
   "source": [
    "Verwenden Sie '`not`' nur, wenn ein Programm besser lesbar macht. Zum Beispiel,"
   ]
  },
  {
   "cell_type": "code",
   "execution_count": 8,
   "metadata": {},
   "outputs": [
    {
     "name": "stdout",
     "output_type": "stream",
     "text": [
      "True\n"
     ]
    }
   ],
   "source": [
    "print(not 12 == 7)"
   ]
  },
  {
   "cell_type": "markdown",
   "metadata": {},
   "source": [
    "ist keine gute Praxis. Besser wäre"
   ]
  },
  {
   "cell_type": "code",
   "execution_count": 9,
   "metadata": {},
   "outputs": [
    {
     "name": "stdout",
     "output_type": "stream",
     "text": [
      "True\n"
     ]
    }
   ],
   "source": [
    "print(12 != 7)"
   ]
  },
  {
   "cell_type": "markdown",
   "metadata": {},
   "source": [
    "Hier ein Beispiel für doppelte Negation, welches sehr kryptisch ist (und schlechte Programmierung):"
   ]
  },
  {
   "cell_type": "code",
   "execution_count": 10,
   "metadata": {},
   "outputs": [
    {
     "name": "stdout",
     "output_type": "stream",
     "text": [
      "False\n"
     ]
    }
   ],
   "source": [
    "print(not not 12 == 7)"
   ]
  },
  {
   "cell_type": "markdown",
   "metadata": {},
   "source": [
    "## Mehrfache Vergleichsoperatoren\n",
    "Die bisherigen Beispiele verwenden höchstens zwei Vergleichsoperatoren. In einigen Fällen möchten wir möglicherweise mehr Prüfungen durchführen. Wir können die Reihenfolge der Auswertung mit Hilfe von Klammern steuern. Wenn wir zum Beispiel prüfen wollen, ob eine Zahl streng zwischen 100 und 200 oder zwischen 10 und 50 liegt:"
   ]
  },
  {
   "cell_type": "code",
   "execution_count": 11,
   "metadata": {},
   "outputs": [
    {
     "name": "stdout",
     "output_type": "stream",
     "text": [
      "True\n"
     ]
    }
   ],
   "source": [
    "value = 150.5\n",
    "print ((value > 100 and value < 200) or (value > 10 and value < 50)) "
   ]
  },
  {
   "cell_type": "markdown",
   "metadata": {},
   "source": [
    ".Die beiden Überprüfungen in den Klammern werden zuerst ausgewertet (jede wird in `True` oder `False` ausgewertet), und dann überprüft das '`or`', ob eine der beiden zutreffend ist."
   ]
  },
  {
   "cell_type": "markdown",
   "metadata": {},
   "source": [
    "# Steueranweisungen (Control statements)\n",
    "\n",
    "Nun, da wir uns mit Vergleichen befasst haben, sind wir bereit, Kontrollanweisungen zu betrachten. Diese sind ein zentraler Bestandteil der Programmierung. Hier ist eine Steueranweisung im Pseudocode:\n",
    "\n",
    "    if A is true\n",
    "        Perform task X (only)\n",
    "    else if B is true\n",
    "        Perform task Y (only)\n",
    "    else   \n",
    "        Perform task Z (only)\n",
    "\n",
    "Dies ist ein Beispiel für eine 'if' Anweisung. Ein anderer Typ von Steueranweisung ist die Schleife (loop)\n",
    "\n",
    "    do task X 10 times\n",
    "    "
   ]
  },
  {
   "cell_type": "markdown",
   "metadata": {},
   "source": [
    "## `if` statements\n",
    "Im Folgenden finden Sie ein einfaches Beispiel, das die Python-Syntax für eine if-else-Steueranweisung veranschaulicht.\n",
    "Bei einem Wert, der einer Variablen `x` zugewiesen ist, druckt das Programm eine Nachricht und ändert `x`.\n",
    "Die Meldung und die Änderung von `x` hängen vom Anfangswert von `x` ab:"
   ]
  },
  {
   "cell_type": "code",
   "execution_count": 12,
   "metadata": {},
   "outputs": [
    {
     "name": "stdout",
     "output_type": "stream",
     "text": [
      "Initial x is less than zero\n",
      "New x value: 11.0\n"
     ]
    }
   ],
   "source": [
    "x = -10.0  # Initial x value\n",
    "\n",
    "if x > 0.0:  \n",
    "    print('Initial x is greater than zero')\n",
    "    x -= 20.0\n",
    "elif x < 0.0:  \n",
    "    print('Initial x is less than zero')\n",
    "    x += 21.0\n",
    "else: \n",
    "    print('Initial x is not less than zero and not greater than zero, therefore it must be zero')\n",
    "    x *= 2.5\n",
    "\n",
    "# Print new x value\n",
    "print(\"New x value:\", x)"
   ]
  },
  {
   "cell_type": "markdown",
   "metadata": {},
   "source": [
    "Try changing the value of `x` and re-running the cell to see the different paths the code can follow."
   ]
  },
  {
   "cell_type": "markdown",
   "metadata": {},
   "source": [
    "We now dissect the control statement example. The control statement begins with an `if`, followed by the expression to check, followed by '`:`'\n",
    "```python\n",
    "if x > 0.0:\n",
    "```\n",
    "Below that is a block of code, indented by four spaces, that is executed if the check (`x > 0.0`) is true:\n",
    "````python\n",
    "    print('Initial x is greater than zero')\n",
    "    x -= 20.0\n",
    "````\n",
    "and in which case the program will then move beyond the end of the control statement. If the check evaluates to false, then the `elif` (else if) check  \n",
    "```python\n",
    "elif x < 0.0:\n",
    "    print('Initial x is less than zero')\n",
    "    x += 21.0\n",
    "```      \n",
    "is performed, and if true '`print('x is less than zero')`' is executed and the control block is exited. The code following the `else` statement is executed\n",
    "```python\n",
    "else:\n",
    "    print('Initial x is not less than zero and not greater than zero, therefore it must be zero')\n",
    "```\n",
    "if none of the preceding statements were true."
   ]
  },
  {
   "cell_type": "markdown",
   "metadata": {},
   "source": [
    "### Example: currency trading\n",
    "\n",
    "A currency trader makes a commission by selling US dollars to travellers at a rate below the market rate. The mark-down multiplier they apply is show below.  \n",
    "\n",
    "|Amount (GBP)                                |reduction on market rate |\n",
    "|--------------------------------------------|-------------------------|\n",
    "| Less than $100$                            | 0.9                     |   \n",
    "| From $100$ and less than $1,000$           | 0.925                   |   \n",
    "| From $1,000$ and less than $10,000$        | 0.95                    |   \n",
    "| From $10,000$ and less than $100,000$      | 0.97                    |   \n",
    "| Over $100,000$                             | 0.98                    |   \n",
    "\n",
    "The currency trader incurs extra costs for handling cash over electronic transactions, so for cash transactions they retain an extra 10% after conversion. \n",
    "\n",
    "At the current market rate 1 GBP is 1.33153 USD."
   ]
  },
  {
   "cell_type": "code",
   "execution_count": 13,
   "metadata": {},
   "outputs": [
    {
     "name": "stdout",
     "output_type": "stream",
     "text": [
      "Amount in GBP sold: 15600.05\n",
      "Amount in USD purchased: 18133.898885284503\n",
      "Effective rate: 1.1624256900000003\n"
     ]
    }
   ],
   "source": [
    "GBP  = 15600.05  # The amount in GBP to be changed into USD\n",
    "cash = True  # True if selling cash, otherwise False\n",
    "\n",
    "market_rate = 1.33153  # 1 GBP is worth this many dollars at the market rate\n",
    "\n",
    "# Apply the appropriate reduction depending on the amount being sold\n",
    "if GBP < 100:\n",
    "    USD = 0.9*market_rate*GBP\n",
    "elif GBP < 1000:  \n",
    "    USD = 0.925*market_rate*GBP\n",
    "elif GBP < 10000:\n",
    "    USD = 0.95*market_rate*GBP\n",
    "elif GBP < 100000:\n",
    "    USD = 0.97*market_rate*GBP\n",
    "else:\n",
    "    USD = 0.98*market_rate*GBP\n",
    "\n",
    "if cash:\n",
    "    USD *= 0.9  # recall that this is shorthand for USD = 0.9*USD \n",
    "    \n",
    "print(\"Amount in GBP sold:\", GBP)\n",
    "print(\"Amount in USD purchased:\", USD)\n",
    "print(\"Effective rate:\", USD/GBP)"
   ]
  },
  {
   "cell_type": "markdown",
   "metadata": {},
   "source": [
    "## `for` loops\n",
    "\n",
    "Eine `for`-Schleife ist ein Block, der eine Operation eine bestimmte Anzahl wiederholt (Schleifen). Das Konzept ist umfangreich, aber wir beginnen mit der einfachsten und gebräuchlichsten Verwendung:"
   ]
  },
  {
   "cell_type": "code",
   "execution_count": 14,
   "metadata": {},
   "outputs": [
    {
     "name": "stdout",
     "output_type": "stream",
     "text": [
      "----\n",
      "0 0\n",
      "----\n",
      "1 1\n",
      "----\n",
      "2 4\n",
      "----\n",
      "3 9\n"
     ]
    }
   ],
   "source": [
    "for n in range(4):\n",
    "    print(\"----\")\n",
    "    print(n, n**2)"
   ]
  },
  {
   "cell_type": "markdown",
   "metadata": {},
   "source": [
    "The above executes 4 loops, over the integers 0, 1, 2 and 3. The statement \n",
    "```python\n",
    "for n in range(4):\n",
    "```\n",
    "says that we want to loop over four integers, and by default it starts from zero\n",
    "(see https://docs.python.org/3/library/stdtypes.html#range for the documentation for `range`). \n",
    "The value of `n` is incremented in each loop iteration. The code we want to execute inside the loop is indented four spaces: \n",
    "```python\n",
    "    print(\"----\")\n",
    "    print(n, n**2)\n",
    "```\n",
    "The loop starts from zero and does not include 4 - `range(4)` is a shortcut for `range(0, 4)`. We can change the starting value if we need to:"
   ]
  },
  {
   "cell_type": "code",
   "execution_count": 15,
   "metadata": {},
   "outputs": [
    {
     "name": "stdout",
     "output_type": "stream",
     "text": [
      "-2\n",
      "-1\n",
      "0\n",
      "1\n",
      "2\n"
     ]
    }
   ],
   "source": [
    "for i in range(-2, 3):\n",
    "    print(i)"
   ]
  },
  {
   "cell_type": "markdown",
   "metadata": {},
   "source": [
    "The loop starts at -2, but does not include 3. If we want to step by three rather than one:"
   ]
  },
  {
   "cell_type": "code",
   "execution_count": 16,
   "metadata": {},
   "outputs": [
    {
     "name": "stdout",
     "output_type": "stream",
     "text": [
      "0\n",
      "3\n",
      "6\n",
      "9\n"
     ]
    }
   ],
   "source": [
    "for n in range(0, 10, 3):\n",
    "    print(n)"
   ]
  },
  {
   "cell_type": "markdown",
   "metadata": {},
   "source": [
    "### Example: conversion table from degrees Fahrenheit to degrees Celsius\n",
    "\n",
    "We can use a `for` loop to create a conversion table from degrees Fahrenheit ($T_F$) to degrees Celsius ($T_c$), using the formula:\n",
    "\n",
    "$$\n",
    "T_c = 5(T_f - 32)/9\n",
    "$$\n",
    "\n",
    "Computing the conversion from -100 F to 200 F in steps of 20 F (not including 200 F):"
   ]
  },
  {
   "cell_type": "code",
   "execution_count": 17,
   "metadata": {},
   "outputs": [
    {
     "name": "stdout",
     "output_type": "stream",
     "text": [
      "T_f,    T_c\n",
      "-100 -73.33333333333333\n",
      "-80 -62.22222222222222\n",
      "-60 -51.111111111111114\n",
      "-40 -40.0\n",
      "-20 -28.88888888888889\n",
      "0 -17.77777777777778\n",
      "20 -6.666666666666667\n",
      "40 4.444444444444445\n",
      "60 15.555555555555555\n",
      "80 26.666666666666668\n",
      "100 37.77777777777778\n",
      "120 48.888888888888886\n",
      "140 60.0\n",
      "160 71.11111111111111\n",
      "180 82.22222222222223\n"
     ]
    }
   ],
   "source": [
    "print(\"T_f,    T_c\")\n",
    "for Tf in range(-100, 200, 20):\n",
    "    print(Tf, (Tf - 32)*5/9)"
   ]
  },
  {
   "cell_type": "markdown",
   "metadata": {},
   "source": [
    "## `while` loops\n",
    "\n",
    "Wir haben gesehen, dass `for`-Schleifen eine Operation eine bestimmte Anzahl wiederholen. Eine while-Schleife führt eine Aufgabe aus, solange eine angegebene Anweisung wahr ist. Zum Beispiel:"
   ]
  },
  {
   "cell_type": "code",
   "execution_count": 18,
   "metadata": {},
   "outputs": [
    {
     "name": "stdout",
     "output_type": "stream",
     "text": [
      "Start of while statement\n",
      "-2\n",
      "-1\n",
      "0\n",
      "1\n",
      "2\n",
      "3\n",
      "4\n",
      "End of while statement\n"
     ]
    }
   ],
   "source": [
    "print(\"Start of while statement\")\n",
    "x = -2\n",
    "while x < 5:\n",
    "    print(x)\n",
    "    x += 1  # Increment x\n",
    "print(\"End of while statement\")"
   ]
  },
  {
   "cell_type": "markdown",
   "metadata": {},
   "source": [
    "The body of the `while` statement, which follows the `while` statement and is indented four spaces, is executed and repeated until `x < 5` is `False`.\n",
    "\n",
    "It can be quite easy to crash your computer using a `while` loop. E.g.,\n",
    "```python\n",
    "x = -2\n",
    "while x < 5:\n",
    "    print(x)\n",
    "```\n",
    "will continue indefinitely since `x < 5 == False`  will never be satisfied. This is known as an *infinite loop*. It is usually good practice to add checks to avoid getting stuck in an infinite loop, e.g. specify a maximum number of permitted loops.\n",
    "\n",
    "The above example could have been implemented using a `for` loop and a `for` loop would be preferred in this case. The following is an example of where a `while` is appropriate:\n",
    "\n",
    "wird unbegrenzt fortgesetzt, da `x <5 == False` niemals zufriedengestellt wird. Dies wird als * Endlosschleife * bezeichnet. Es ist in der Regel sinnvoll, Prüfungen hinzuzufügen, um zu vermeiden, dass Sie in einer Endlosschleife hängen bleiben, z. Geben Sie eine maximale Anzahl zulässiger Schleifen an.\n",
    "\n",
    "Das obige Beispiel könnte unter Verwendung einer \"for\" -Schleife implementiert worden sein und eine \"for\" -Schleife wäre in diesem Fall bevorzugt. Das folgende Beispiel zeigt, wo ein \"while\" angebracht ist:"
   ]
  },
  {
   "cell_type": "code",
   "execution_count": 19,
   "metadata": {},
   "outputs": [
    {
     "name": "stdout",
     "output_type": "stream",
     "text": [
      "0.81\n",
      "0.6561000000000001\n",
      "0.43046721000000016\n",
      "0.18530201888518424\n",
      "0.03433683820292518\n",
      "0.001179018457773862\n",
      "1.390084523771456e-06\n"
     ]
    }
   ],
   "source": [
    "x = 0.9\n",
    "while x > 0.001:\n",
    "    # Square x (we could have used the shorthand x *= x)\n",
    "    x = x*x\n",
    "    print(x)"
   ]
  },
  {
   "cell_type": "markdown",
   "metadata": {},
   "source": [
    "since we might not know beforehand how many steps are required before `x > 0.001` becomes false. \n",
    "\n",
    "If $x \\ge 1$, the above would lead to an infinite loop. To make a code robust, it would be good practice to check that $x < 1$ before entering the `while` loop.\n",
    "\n",
    "da wir möglicherweise nicht im Voraus wissen, wie viele Schritte erforderlich sind, bevor x> 0,001 falsch wird.\n",
    "\n",
    "Wenn $ x \\ ge 1 $, würde das obige zu einer Endlosschleife führen. Um einen Code robust zu machen, ist es ratsam, vor dem Aufrufen der `while'-Schleife $ x <1 $ zu überprüfen."
   ]
  },
  {
   "cell_type": "markdown",
   "metadata": {},
   "source": [
    "## `break`, `continue` and `pass`\n",
    "\n",
    "### `break`\n",
    "\n",
    "Manchmal wollen wir aus einer `for` - oder `while` -Schleife ausbrechen. Vielleicht können wir in einer `for`-Schleife überprüfen, ob etwas wahr ist, und dann die Schleife vorzeitig beenden, z.B."
   ]
  },
  {
   "cell_type": "code",
   "execution_count": 20,
   "metadata": {},
   "outputs": [
    {
     "name": "stdout",
     "output_type": "stream",
     "text": [
      "0\n",
      "1\n",
      "2\n",
      "3\n",
      "4\n",
      "5\n",
      "Time to break out\n"
     ]
    }
   ],
   "source": [
    "for x in range(10):\n",
    "    print(x)\n",
    "    if x == 5:\n",
    "        print(\"Time to break out\")\n",
    "        break"
   ]
  },
  {
   "cell_type": "markdown",
   "metadata": {},
   "source": [
    "Nachfolgend finden Sie ein Programm zum Suchen von Primzahlen, das eine \"break\" -Anweisung verwendet. Nehmen Sie sich etwas Zeit, um zu verstehen, was es bewirkt. Es kann hilfreich sein, einige Druckanweisungen hinzuzufügen, um den Ablauf zu verstehen."
   ]
  },
  {
   "cell_type": "code",
   "execution_count": 21,
   "metadata": {},
   "outputs": [
    {
     "name": "stdout",
     "output_type": "stream",
     "text": [
      "2\n",
      "3\n",
      "5\n",
      "7\n",
      "11\n",
      "13\n",
      "17\n",
      "19\n",
      "23\n",
      "29\n",
      "31\n",
      "37\n",
      "41\n",
      "43\n",
      "47\n"
     ]
    }
   ],
   "source": [
    "N = 50  # Check numbers up 50 for primes (excludes 50)\n",
    "\n",
    "# Loop over all numbers from 2 to 50 (excluding 50)\n",
    "for n in range(2, N):\n",
    "\n",
    "    # Assume that n is prime\n",
    "    n_is_prime = True\n",
    "\n",
    "    # Check if n can be divided by m, where m ranges from 2 to n (excluding n)\n",
    "    for m in range(2, n):\n",
    "         if n % m == 0:  # This is true if the remainder for n/m is equal to zero\n",
    "            # We've found that n is divisable by m, so it can't be a prime number. \n",
    "            # No need to check for more values of m, so set n_is_prime = False and\n",
    "            # exit the 'm' loop.\n",
    "            n_is_prime = False\n",
    "            break\n",
    "\n",
    "    #  If n is prime, print to screen        \n",
    "    if n_is_prime:\n",
    "        print(n)"
   ]
  },
  {
   "cell_type": "markdown",
   "metadata": {},
   "source": [
    "Ändern Sie den Code, um die ersten $N$ Primzahlen zu finden (da Sie nicht wissen, wie viele Zahlen Sie nach $N$ Primzahlen suchen müssen, verwenden Sie eine `while`-Schleife)."
   ]
  },
  {
   "cell_type": "markdown",
   "metadata": {},
   "source": [
    "### `continue`\n",
    "\n",
    "Sometimes we want to go prematurely to the next iteration in a loop, skipping the remaining code.\n",
    "For this we use `continue`. Here is an example that loops over 20 numbers (0 to 19) and checks if the number is divisible by 4. If it is divisible by 4 it prints a message before moving to the next value. If it is not divisible by 4 it advances the loop. \n",
    "\n",
    "Manchmal möchten wir vorzeitig zur nächsten Iteration in einer Schleife gehen und den restlichen Code überspringen.\n",
    "Hierfür verwenden wir 'weiter'. Hier ein Beispiel, das über 20 Zahlen (0 bis 19) in einer Schleife durchläuft und prüft, ob die Zahl durch 4 teilbar ist. Wenn es durch 4 teilbar ist, wird eine Nachricht gedruckt, bevor zum nächsten Wert übergegangen wird. Wenn es nicht durch 4 teilbar ist, wird die Schleife vorgerückt."
   ]
  },
  {
   "cell_type": "code",
   "execution_count": 22,
   "metadata": {},
   "outputs": [
    {
     "name": "stdout",
     "output_type": "stream",
     "text": [
      "Number is not divisible by 4: 1\n",
      "Number is not divisible by 4: 2\n",
      "Number is not divisible by 4: 3\n",
      "Number is not divisible by 4: 5\n",
      "Number is not divisible by 4: 6\n",
      "Number is not divisible by 4: 7\n",
      "Number is not divisible by 4: 9\n",
      "Number is not divisible by 4: 10\n",
      "Number is not divisible by 4: 11\n",
      "Number is not divisible by 4: 13\n",
      "Number is not divisible by 4: 14\n",
      "Number is not divisible by 4: 15\n",
      "Number is not divisible by 4: 17\n",
      "Number is not divisible by 4: 18\n",
      "Number is not divisible by 4: 19\n"
     ]
    }
   ],
   "source": [
    "for j in range(20):\n",
    "    if j % 4 == 0:  # Check remained of j/4\n",
    "        continue  # jump to next iteration over j\n",
    "    print(\"Number is not divisible by 4:\", j)"
   ]
  },
  {
   "cell_type": "markdown",
   "metadata": {},
   "source": [
    "### `pass`\n",
    "\n",
    "Sometimes we need a statement that does nothing. It is often used during development where syntactically some code is required but which you have not yet written. For example:  "
   ]
  },
  {
   "cell_type": "code",
   "execution_count": 23,
   "metadata": {},
   "outputs": [
    {
     "name": "stdout",
     "output_type": "stream",
     "text": [
      "25\n",
      "36\n",
      "49\n",
      "64\n",
      "9\n"
     ]
    }
   ],
   "source": [
    "for x in range(10):\n",
    "    if x < 5:\n",
    "        # TODO: implement handling of x < 5 when other cases finished \n",
    "        pass\n",
    "    elif x < 9:\n",
    "        print(x*x)\n",
    "    else:\n",
    "        print(x)"
   ]
  },
  {
   "cell_type": "markdown",
   "metadata": {},
   "source": [
    "Es kann auch die Lesbarkeit verbessern. Vielleicht ist in einem Programm nichts zu tun, aber jemand, der den Code liest, könnte vernünftigerweise der Meinung sein, dass etwas getan werden sollte, und vermutet einen Fehler. Die Verwendung von `pass` sagt dem Leser, dass es die Absicht des Programmierers war, nichts zu tun."
   ]
  },
  {
   "cell_type": "markdown",
   "metadata": {},
   "source": [
    "## Infinite loops: cause and guarding against\n",
    "\n",
    "Ein häufiger Fehler, insbesondere bei der Verwendung von \"while\" -Anweisungen, ist die [Endlosschleife] (https://en.wikipedia.org/wiki/Infinite_loop). Dies ist, wenn eine Schleife betreten wird, aber niemals endet (beendet wird).\n",
    "Unendliche Schleifen können dazu führen, dass ein System nicht mehr reagiert und manchmal ein Herunterfahren erforderlich ist, um die Funktion wiederherzustellen.\n",
    "\n",
    "Es ist empfehlenswert, vor allem beim Lernen Schutzvorrichtungen gegen unendliche Schleifen hinzuzufügen. Zum Beispiel,"
   ]
  },
  {
   "cell_type": "code",
   "execution_count": 24,
   "metadata": {},
   "outputs": [
    {
     "name": "stdout",
     "output_type": "stream",
     "text": [
      "Loop count exceeded 2000. Exiting\n"
     ]
    }
   ],
   "source": [
    "x = 0.0\n",
    "\n",
    "counter = 0\n",
    "while x < 0.05:\n",
    "\n",
    "    # Guard against infinite loop\n",
    "    counter += 1\n",
    "    if counter > 2000:\n",
    "        print(\"Loop count exceeded 2000. Exiting\")\n",
    "        break"
   ]
  },
  {
   "cell_type": "markdown",
   "metadata": {},
   "source": [
    "# Exercises\n",
    "\n",
    "Complete now the [02 Exercises](Exercises/02%20Exercises.ipynb) notebook."
   ]
  }
 ],
 "metadata": {
  "kernelspec": {
   "display_name": "Python 3",
   "language": "python",
   "name": "python3"
  },
  "language_info": {
   "codemirror_mode": {
    "name": "ipython",
    "version": 3
   },
   "file_extension": ".py",
   "mimetype": "text/x-python",
   "name": "python",
   "nbconvert_exporter": "python",
   "pygments_lexer": "ipython3",
   "version": "3.7.2"
  }
 },
 "nbformat": 4,
 "nbformat_minor": 1
}
