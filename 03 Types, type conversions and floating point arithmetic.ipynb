{
 "cells": [
  {
   "cell_type": "markdown",
   "metadata": {},
   "source": [
    "geklont von: https://github.com/CambridgeEngineering/PartIA-Computing-Michaelmas\n",
    "\n",
    "# Einführung\n",
    "\n",
    "We have thus far avoided discussing directly *types*. The '*type*' is the type of object that a variable is associated with. This affects how a computer stores the object in memory, and how operations, such as multiplication and division, are performed.\n",
    "\n",
    "In *statically typed* languages, like C and C++, types come up from the very beginning because \n",
    "you usually need to specify types explicitly in your programs. Python is a *dynamically typed* language, which means types are deduced when a program is run. This is why we have been able to postpone the discussion until now.\n",
    "It is important to have a basic understanding of types, and how types can affect how your programs behave. One can go very deep into this topic, especially for numerical computations, but we will cover the general concept from a high level, \n",
    "show some examples, and highlight some potential pitfalls for engineering computations. \n",
    "\n",
    "This is a dry topic - it contains important background information that you need to know for later, so hang in there. The below account highlights what can go wrong without an awareness of types and how computers process numbers.\n",
    "\n",
    "Wir haben es bisher vermieden, direkt über * Typen * zu diskutieren. Der '* type *' ist der Objekttyp, dem eine Variable zugeordnet ist. Dies wirkt sich darauf aus, wie ein Computer das Objekt im Speicher speichert und wie Operationen wie Multiplikation und Division ausgeführt werden.\n",
    "\n",
    "In * statisch typisierten * Sprachen, wie C und C ++, kommen Typen von Anfang an daher, weil\n",
    "In der Regel müssen Sie Typen explizit in Ihren Programmen angeben. Python ist eine * dynamisch typisierte * Sprache, was bedeutet, dass Typen abgeleitet werden, wenn ein Programm ausgeführt wird. Deshalb konnten wir die Diskussion bisher verschieben.\n",
    "Es ist wichtig, ein grundlegendes Verständnis von Typen zu haben und wie Typen das Verhalten Ihrer Programme beeinflussen können. Man kann sehr tief in dieses Thema einsteigen, insbesondere für numerische Berechnungen, aber wir werden das allgemeine Konzept von einem hohen Niveau abdecken.\n",
    "Zeigen Sie einige Beispiele und heben Sie einige potenzielle Fallstricke für Konstruktionsberechnungen hervor.\n",
    "\n",
    "Dies ist ein trockenes Thema - es enthält wichtige Hintergrundinformationen, die Sie für später wissen müssen, also bleiben Sie dran. Das folgende Konto zeigt auf, was schief gehen kann, ohne dass man sich der Typen bewusst ist und wie Computer Zahlen verarbeiten."
   ]
  },
  {
   "cell_type": "markdown",
   "metadata": {},
   "source": [
    "## Patriot Missile Misserfolg und die Ariane-5-Explosion\n",
    "\n",
    "There have been numerous accidents due to programs not correctly handling types, type conversions and floating point arithmetic. Here are two examples: \n",
    "\n",
    "1. In 1991, a US Patriot missile failed to intercept an Iraqi Scud missile at Dhahran in Saudi Arabi, leading to \n",
    "   a loss of life. The subsequent investigation found that the Patriot missile failed to intercept the Scud   missile due to a software flaw. The software developers did not account for the effects of 'floating point \n",
    "   arithmetic'. \n",
    "   This led to a small error in computing the time, which in turn caused the Patriot to miss the incoming Scud \n",
    "   missile. \n",
    "   \n",
    "Es gab zahlreiche Unfälle, weil Programme Typen, Typkonvertierungen und Fließkomma-Arithmetik nicht korrekt handhabten. Hier sind zwei Beispiele:\n",
    "\n",
    "1. Im Jahr 1991 konnte eine US-amerikanische Patriot-Rakete keine irakische Scud-Rakete in Dhahran in Saudi-Arabi abfangen, was dazu führte\n",
    "    ein Verlust von Leben. Die anschließende Untersuchung ergab, dass die Patriot-Rakete die Scud-Rakete aufgrund eines Softwarefehlers nicht abfangen konnte. Die Softwareentwickler haben die Auswirkungen von Fließkomma nicht berücksichtigt\n",
    "    Arithmetik'.\n",
    "    Dies führte zu einem kleinen Fehler in der Zeitberechnung, wodurch der Patriot den ankommenden Scud verfehlte\n",
    "    Rakete.\n",
    "\n",
    "   <img src=\"https://upload.wikimedia.org/wikipedia/commons/e/eb/Patriot_System_2.jpg\" width=\"300\" />\n",
    "\n",
    "   We will reproduce the precise mistake the developers of the Patriot Missile software made. See\n",
    "   https://en.wikipedia.org/wiki/MIM-104_Patriot#Failure_at_Dhahran for more background on the interception \n",
    "   failure.\n",
    "   \n",
    "\n",
    "1. Poor programming related to how computers store numbers led in 1996 to a European Space Agency *Ariane 5* \n",
    "   unmanned rocket exploding shortly after lift-off. The rocket payload, worth US\\$500 M, was destroyed. You can \n",
    "   find background at https://en.wikipedia.org/wiki/Cluster_(spacecraft)#Launch_failure. \n",
    "   We will reproduce their mistake, and show how a few lines code would have saved over US\\$500 M. \n",
    "   \n",
    "Wir werden den genauen Fehler reproduzieren, den die Entwickler der Patriot Missile-Software gemacht haben. Sehen\n",
    "    https://en.wikipedia.org/wiki/MIM-104_Patriot#Failure_at_Dhahran für mehr Hintergrundinformationen zum Abhören\n",
    "    Fehler.\n",
    "   \n",
    "\n",
    "1. Schlechte Programmierung in Bezug darauf, wie die Zahl der Computergeschäfte 1996 zu einer europäischen Weltraumorganisation führte * Ariane 5 *\n",
    "    Unbemannte Rakete explodiert kurz nach dem Abheben. Die Raketennutzlast im Wert von 500 Millionen US-Dollar wurde zerstört. Sie können\n",
    "    Hintergrundinformationen finden Sie unter https://en.wikipedia.org/wiki/Cluster_(spacecraft)#Launch_failure.\n",
    "    Wir werden ihren Fehler reproduzieren und zeigen, wie ein paar Zeilen Code über 500 US $ gespart hätten.\n",
    "   \n",
    "   <img src=\"https://upload.wikimedia.org/wikipedia/commons/thumb/3/3c/Ariane_5ES_with_ATV_4_on_its_way_to_ELA-3.jpg/320px-Ariane_5ES_with_ATV_4_on_its_way_to_ELA-3.jpg\" width=\"200\" />"
   ]
  },
  {
   "cell_type": "markdown",
   "metadata": {},
   "source": [
    "## Background: bits and bytes\n",
    "\n",
    "An important part of understanding types is appreciating how computer storage works. Computer memory is made up of *bits*, and each bit can take on one of two \n",
    "values - 0 or 1. A bit is the smallest building block of memory.\n",
    "Bits are very fine-grained, so for many computer architectures the smallest 'block' we can normally work with is a *byte*. One byte is made up of 8 bits. This why when we talk about bits, e.g. a 64-bit operating system, the number of bits will almost always be a multiple of 8 (one byte).\n",
    "\n",
    "The 'bigger' a thing we want to store, the more bytes we need. This is important for engineering computations since the the number of bytes used to store a number determines the accuracy with which the number can be stored,\n",
    "and how big or small the number can be. The more bytes the greater the accuracy, but the price to be paid is higher memory usage. Also, it can be more expensive to perform operations like multiplication and division when using more bytes.\n",
    "\n",
    "Ein wichtiger Teil des Verständnisses von Typen ist es, die Funktionsweise des Computerspeichers zu schätzen. Der Computerspeicher besteht aus * Bits *, und jedes Bit kann eine von zwei annehmen\n",
    "Werte - 0 oder 1. Ein Bit ist der kleinste Baustein des Speichers.\n",
    "Die Bits sind sehr feinkörnig, daher ist für viele Computerarchitekturen der kleinste \"Block\", mit dem wir normalerweise arbeiten können, ein * Byte *. Ein Byte besteht aus 8 Bits. Deshalb, wenn wir über Bits sprechen, z. Bei einem 64-Bit-Betriebssystem ist die Anzahl der Bits fast immer ein Vielfaches von 8 (ein Byte).\n",
    "\n",
    "Je größer, was wir speichern möchten, desto mehr Bytes benötigen wir. Dies ist wichtig für Konstruktionsberechnungen, da die Anzahl der zum Speichern einer Anzahl verwendeten Bytes die Genauigkeit bestimmt, mit der die Anzahl gespeichert werden kann.\n",
    "und wie groß oder klein die Zahl sein kann. Je mehr Bytes, desto höher die Genauigkeit, aber der zu zahlende Preis ist eine höhere Speicherauslastung. Es kann auch teurer sein, Operationen wie Multiplikation und Division auszuführen, wenn mehr Bytes verwendet werden."
   ]
  },
  {
   "cell_type": "markdown",
   "metadata": {},
   "source": [
    "## Objectives\n",
    "\n",
    "- Introduce primitive data types (booleans, strings and numerical types)\n",
    "- Type inspection\n",
    "- Basic type conversion\n",
    "- Introduction to pitfalls of floating point arithmetic \n",
    "\n",
    "Ziele\n",
    "\n",
    "- Einführung primitiver Datentypen (Booleans, Strings und numerische Typen)\n",
    "- Typprüfung\n",
    "- Grundtypumwandlung\n",
    "- Einführung in die Fallstricke der Fließkomma-Arithmetik"
   ]
  },
  {
   "cell_type": "markdown",
   "metadata": {},
   "source": [
    "# What is type?\n",
    "\n",
    "All variables have a 'type', which indicates what the variable is, e.g. a number, a string of characters, etc. In 'statically typed' languages we usually need to be explicit in declaring the type of a variable in a program. In a dynamically typed language, such as Python, variables still have types but the interpreter can determine types dynamically.\n",
    "\n",
    "Type is important because it determines how a variable is stored, how it behaves when we perform operations on it, and how it interacts with other variables. For example, multiplication of two real numbers is different from multiplication of two complex numbers.\n",
    "\n",
    "Alle Variablen haben einen 'Typ', der angibt, was die Variable ist, z. eine Zahl, eine Zeichenfolge usw. In \"statisch typisierten\" Sprachen müssen wir normalerweise den Typ einer Variablen in einem Programm explizit angeben. In einer dynamisch typisierten Sprache wie Python haben Variablen immer noch Typen, der Interpreter kann jedoch Typen dynamisch bestimmen.\n",
    "\n",
    "Der Typ ist wichtig, da er bestimmt, wie eine Variable gespeichert wird, wie sie sich beim Ausführen von Operationen verhält und wie sie mit anderen Variablen interagiert. Beispielsweise unterscheidet sich die Multiplikation von zwei reellen Zahlen von der Multiplikation von zwei komplexen Zahlen."
   ]
  },
  {
   "cell_type": "markdown",
   "metadata": {},
   "source": [
    "# Introspection \n",
    "\n",
    "Before getting into types, we look at how we can check the type in Python. A powerful feature of Python is *introspection*. This means that we can probe a program to ask about the type of a variable. To check \n",
    "the type of a variable we use the function `type`:\n",
    "\n",
    "Selbstbeobachtung\n",
    "\n",
    "Bevor wir mit den Typen beginnen, schauen wir uns an, wie wir den Typ in Python prüfen können. Eine leistungsstarke Funktion von Python ist * Introspection *. Dies bedeutet, dass wir ein Programm untersuchen können, um nach dem Typ einer Variablen zu fragen. Überprüfen\n",
    "den Typ einer Variablen verwenden wir die Funktion `type`:"
   ]
  },
  {
   "cell_type": "code",
   "execution_count": 1,
   "metadata": {},
   "outputs": [
    {
     "name": "stdout",
     "output_type": "stream",
     "text": [
      "<class 'bool'>\n",
      "<class 'int'>\n",
      "<class 'float'>\n"
     ]
    }
   ],
   "source": [
    "x = True\n",
    "print(type(x))\n",
    "\n",
    "a = 1\n",
    "print(type(a))\n",
    "\n",
    "a = 1.0\n",
    "print(type(a))"
   ]
  },
  {
   "cell_type": "markdown",
   "metadata": {},
   "source": [
    "Note that `a = 1` and `a = 1.0` are different types! This distinction is very important for numerical computations.\n",
    "More on this further down.\n",
    "\n",
    "Use `type` freely when exploring and testing, to develop an understanding for what your program is doing.\n",
    "\n",
    "Beachten Sie, dass \"a = 1\" und \"a = 1.0\" verschiedene Typen sind! Diese Unterscheidung ist für numerische Berechnungen sehr wichtig.\n",
    "Mehr dazu weiter unten.\n",
    "\n",
    "Verwenden Sie \"type\" beim Erkunden und Testen, um ein Verständnis dafür zu entwickeln, was Ihr Programm tut."
   ]
  },
  {
   "cell_type": "markdown",
   "metadata": {},
   "source": [
    "# Booleans\n",
    "\n",
    "You have already seen the 'Boolean' type that can take on one of two values - true or false. This is the simplest type\n",
    "Sie haben bereits den Typ 'Boolean' gesehen, der einen von zwei Werten annehmen kann - wahr oder falsch. Dies ist der einfachste Typ."
   ]
  },
  {
   "cell_type": "code",
   "execution_count": 2,
   "metadata": {},
   "outputs": [
    {
     "name": "stdout",
     "output_type": "stream",
     "text": [
      "True <class 'bool'>\n"
     ]
    }
   ],
   "source": [
    "a = True\n",
    "b = False\n",
    "test = a or b  # test will be True if a or b are True\n",
    "print(test, type(test))"
   ]
  },
  {
   "cell_type": "markdown",
   "metadata": {},
   "source": [
    "In principle, we could represent a boolean with just one bit (0 or 1 switch).\n",
    "Im Prinzip könnten wir einen Boolean mit nur einem Bit (0 oder 1 Schalter) darstellen."
   ]
  },
  {
   "cell_type": "markdown",
   "metadata": {},
   "source": [
    "# Strings\n",
    "\n",
    "A string is a collection of characters. We have been using strings in previous activities for printing informative messages. In Python we create a string using single or double quotes (the choice is personal preference), e.g.\n",
    "\n",
    "Eine Zeichenfolge ist eine Sammlung von Zeichen. Wir haben in früheren Aktivitäten Zeichenfolgen zum Drucken von Informationsnachrichten verwendet. In Python erstellen wir eine Zeichenfolge mit einfachen oder doppelten Anführungszeichen (die Wahl liegt nach persönlichen Vorlieben), z.\n",
    "\n",
    "    my_string = 'This is a string.'\n",
    "    \n",
    "or\n",
    "\n",
    "    my_string = \"This is a string.\"\n",
    "    \n",
    "Below we assign a string to a variable, display the string, and then check its type:\n",
    "Im Folgenden weisen wir einer Variablen eine Zeichenfolge zu, zeigen die Zeichenfolge an und prüfen dann ihren Typ:"
   ]
  },
  {
   "cell_type": "code",
   "execution_count": 3,
   "metadata": {},
   "outputs": [
    {
     "name": "stdout",
     "output_type": "stream",
     "text": [
      "This is a string.\n",
      "<class 'str'>\n"
     ]
    }
   ],
   "source": [
    "my_string = \"This is a string.\"\n",
    "print(my_string)\n",
    "print(type(my_string))"
   ]
  },
  {
   "cell_type": "markdown",
   "metadata": {},
   "source": [
    "We can perform many different operations on strings. We can extract a particular character as a new string:\n",
    "Wir können viele verschiedene Operationen an Zeichenketten ausführen. Wir können ein bestimmtes Zeichen als neue Zeichenfolge extrahieren:"
   ]
  },
  {
   "cell_type": "code",
   "execution_count": 4,
   "metadata": {},
   "outputs": [
    {
     "name": "stdout",
     "output_type": "stream",
     "text": [
      "i\n",
      "<class 'str'>\n"
     ]
    }
   ],
   "source": [
    "# Get 3rd character (Python counts from zero)\n",
    "s2 = my_string[2]\n",
    "print(s2)\n",
    "print(type(s2))"
   ]
  },
  {
   "cell_type": "markdown",
   "metadata": {},
   "source": [
    "or extract a range of characters:\n",
    "oder extrahiere eine Reihe von Zeichen:"
   ]
  },
  {
   "cell_type": "code",
   "execution_count": 5,
   "metadata": {},
   "outputs": [
    {
     "name": "stdout",
     "output_type": "stream",
     "text": [
      "This i\n",
      "<class 'str'>\n",
      "ing.\n"
     ]
    }
   ],
   "source": [
    "# Get first six characters, print and check type\n",
    "s3 = my_string[0:6]\n",
    "print(s3)\n",
    "print(type(s3))\n",
    "\n",
    "# Get last four characters and print\n",
    "s4 = my_string[-4:]\n",
    "print(s4)"
   ]
  },
  {
   "cell_type": "markdown",
   "metadata": {},
   "source": [
    "We can add strings together:\n",
    "Wir können Strings zusammen hinzufügen:"
   ]
  },
  {
   "cell_type": "code",
   "execution_count": 6,
   "metadata": {},
   "outputs": [
    {
     "name": "stdout",
     "output_type": "stream",
     "text": [
      "My name is: Joe\n"
     ]
    }
   ],
   "source": [
    "introduction = \"My name is:\"\n",
    "name = \"Joe\"\n",
    "\n",
    "personal_introduction = introduction + \" \" + name\n",
    "print(personal_introduction)"
   ]
  },
  {
   "cell_type": "markdown",
   "metadata": {},
   "source": [
    "We can also check the length (number of characters) of a string using `len`:\n",
    "Wir können die Länge (Anzahl der Zeichen) eines Strings auch mit `len` überprüfen:"
   ]
  },
  {
   "cell_type": "code",
   "execution_count": 7,
   "metadata": {},
   "outputs": [
    {
     "name": "stdout",
     "output_type": "stream",
     "text": [
      "15\n"
     ]
    }
   ],
   "source": [
    "print(len(personal_introduction))"
   ]
  },
  {
   "cell_type": "markdown",
   "metadata": {},
   "source": [
    "There are *many* more operations that can be performed on strings. We will see more in later activities.\n",
    "Es gibt * viele * weitere Operationen, die für Zeichenfolgen ausgeführt werden können. Wir werden mehr in späteren Aktivitäten sehen."
   ]
  },
  {
   "cell_type": "markdown",
   "metadata": {
    "collapsed": true
   },
   "source": [
    "# Numeric types\n",
    "\n",
    "Numeric types are important in many computing applications, and particularly in scientific and engineering programs. Python 3 has three native numerical types:\n",
    "\n",
    "- integers (`int`)\n",
    "- floating point numbers (`float`)\n",
    "- complex numbers (`complex`)\n",
    "\n",
    "This is typical for most programming languages, although there can be some subtle differences.\n",
    "\n",
    "Numerische Typen sind in vielen Computeranwendungen und insbesondere in wissenschaftlichen und technischen Programmen von Bedeutung. Python 3 hat drei native numerische Typen:\n",
    "\n",
    "- ganze Zahlen (\"int\")\n",
    "- Fließkommazahlen (\"Float\")\n",
    "- komplexe Zahlen (\"Komplex\")\n",
    "\n",
    "Dies ist typisch für die meisten Programmiersprachen, es kann jedoch geringfügige Unterschiede geben."
   ]
  },
  {
   "cell_type": "markdown",
   "metadata": {},
   "source": [
    "## Integers\n",
    "\n",
    "Integers (`int`) are whole numbers, and can be postive or negative. Integers should be used when a value can only take on a whole number, e.g. the year, or the number of students following this course. Python infers the type of a number from the way we input it. It will infer an `int` if we assign a number with no decimal place:\n",
    "\n",
    "Ganzzahlen (\"int\") sind ganze Zahlen und können positiv oder negativ sein. Ganzzahlen sollten verwendet werden, wenn ein Wert nur eine ganze Zahl annehmen kann, z. das Jahr oder die Anzahl der Studenten, die an diesem Kurs teilnehmen. Python leitet den Typ einer Zahl von der Art ab, wie wir sie eingeben. Es wird ein \"int\" abgeleitet, wenn wir eine Zahl ohne Dezimalstelle zuweisen:"
   ]
  },
  {
   "cell_type": "code",
   "execution_count": 8,
   "metadata": {},
   "outputs": [
    {
     "name": "stdout",
     "output_type": "stream",
     "text": [
      "<class 'int'>\n"
     ]
    }
   ],
   "source": [
    "a = 2\n",
    "print(type(a))"
   ]
  },
  {
   "cell_type": "markdown",
   "metadata": {},
   "source": [
    "If we add a decimal point, the variable type becomes a `float` (more on this later)\n",
    "\n",
    "Wenn wir einen Dezimalpunkt hinzufügen, wird der Variablentyp zu einem Float (mehr dazu später)."
   ]
  },
  {
   "cell_type": "code",
   "execution_count": 9,
   "metadata": {},
   "outputs": [
    {
     "name": "stdout",
     "output_type": "stream",
     "text": [
      "<class 'float'>\n"
     ]
    }
   ],
   "source": [
    "a = 2.0\n",
    "print(type(a))"
   ]
  },
  {
   "cell_type": "markdown",
   "metadata": {},
   "source": [
    "Integer operations that result in an integer, such as multiplying or adding two integers, are performed exactly (there is no error). This does however depend on a variable having enough memory (sufficient bytes) to represent the result.\n",
    "Ganzzahloperationen, die zu einer Ganzzahl führen, z. B. Multiplizieren oder Hinzufügen von zwei Ganzzahlen, werden exakt ausgeführt (es liegt kein Fehler vor). Dies hängt jedoch davon ab, dass eine Variable über genügend Speicher (genug Bytes) verfügt, um das Ergebnis darzustellen."
   ]
  },
  {
   "cell_type": "markdown",
   "metadata": {},
   "source": [
    "### Integer storage and overflow\n",
    "\n",
    "In most languages, a fixed number of bits are used to store a given type of integer. In C and C++ a standard integer (`int`) is usually stored using 32 bits (it is possible to declare shorter and longer integer types). \n",
    "The largest integer that can be stored using 32 bits is $2^{31} - 1 = 2,147,483,647$.\n",
    "We explain later where this comes from. The message for now is that for a fixed number of bits, there is a bound on the largest number that can be represented/stored.\n",
    "\n",
    "####  Integer overflow\n",
    "\n",
    "Integer overflow is when an operation creates an integer that is too big to be represented by the given integer type. For example, attempting to assign $2^{31} + 1$ to a 32-bit integer will cause an overflow and potentially unpredictable program response. This would usually be a *bug*.\n",
    "\n",
    "The Ariane 5 rocket explosion in 1996 was caused by integer overflow. The rocket navigation software was taken from the older, slower Ariane 4 rocket. The program assigned the rocket speed to a 16-bit integer (the largest number a 16-bit integer can store is $2^{15} - 1 = 32767$), but the Ariane 5 could travel faster than the older generation of rocket and the speed value exceeded $32767$. The resulting integer overflow led to \n",
    "failure of the rocket's navigation system and\n",
    "explosion of the rocket; a very costly rocket and a very expensive payload were destroyed.\n",
    "We will reproduce the error that caused this failure when we look at *type conversions*.\n",
    "\n",
    "Python avoids integer overflows by dynamically changing the number of bits used to represent an integer. You can inspect the number of bits required to store an integer in binary (not including the bit for the sign) using the function [bit_length](https://docs.python.org/3/library/stdtypes.html#int.bit_length):\n",
    "\n",
    "Ganzzahlspeicher und Überlauf\n",
    "In den meisten Sprachen wird eine bestimmte Anzahl von Bits verwendet, um einen bestimmten Integer-Typ zu speichern. In C und C ++ wird eine Standard-Integer-Zahl (Int) normalerweise mit 32 Bit gespeichert (kürere und längere Integer-Typen können deklariert werden). Die größte Ganzzahl, die unter Verwendung von 32 Bits gespeichert werden kann, ist 231 - 1 = 2.147.483.647. Wir erklären später, woher das kommt. Die Nachricht ist vorerst, dass für eine feste Anzahl von Bits die größte Anzahl, die dargestellt / gespeichert werden kann, begrenzt ist.\n",
    "\n",
    "Ganzzahlüberlauf\n",
    "Ganzzahlüberlauf ist, wenn eine Operation eine Ganzzahl erstellt, die zu groß ist, um von dem angegebenen Ganzzahlentyp dargestellt zu werden. Wenn Sie beispielsweise versuchen, einer 32-Bit-Ganzzahl 231 + 1 zuzuweisen, wird dies zu einem Überlauf und möglicherweise zu einer unvorhersehbaren Programmreaktion führen. Dies wäre normalerweise ein Fehler.\n",
    "\n",
    "Die Ariane-5-Raketenexplosion im Jahr 1996 wurde durch einen ganzzahligen Überlauf verursacht. Die Raketennavigationssoftware wurde von der älteren, langsameren Ariane-4-Rakete übernommen. Das Programm hat die Raketengeschwindigkeit einer 16-Bit-Ganzzahl zugewiesen (die größte Zahl, die eine 16-Bit-Ganzzahl speichern kann, ist 215-1 = 32767), aber die Ariane 5 könnte sich schneller bewegen als die ältere Raketengeneration und der Geschwindigkeitswert überschritt 32767 . Der resultierende ganzzahlige Überlauf führte zum Versagen des Navigationssystems der Rakete und zur Explosion der Rakete; Eine sehr teure Rakete und eine sehr teure Nutzlast wurden zerstört. Wir werden den Fehler reproduzieren, der zu diesem Fehler geführt hat, wenn wir Typkonvertierungen betrachten.\n",
    "\n",
    "Python vermeidet ganzzahlige Überläufe, indem es die Anzahl der zur Darstellung einer ganzen Zahl verwendeten Bits dynamisch ändert. Sie können die Anzahl der Bits, die zum Speichern einer Ganzzahl in binär erforderlich sind (ohne das Bit für das Vorzeichen), mit der Funktion bit_length überprüfen:"
   ]
  },
  {
   "cell_type": "code",
   "execution_count": 10,
   "metadata": {},
   "outputs": [
    {
     "name": "stdout",
     "output_type": "stream",
     "text": [
      "<class 'int'>\n",
      "4\n"
     ]
    }
   ],
   "source": [
    "a = 8\n",
    "print(type(a))\n",
    "print(a.bit_length())"
   ]
  },
  {
   "cell_type": "markdown",
   "metadata": {},
   "source": [
    "We see that 4 bits are necessary to represent the number 8. If we increase the size of the number dramatically by raising it to the power of 12:\n",
    "\n",
    "Wir sehen, dass 4 Bits notwendig sind, um die Zahl 8 darzustellen. Wenn wir die Größe der Zahl dramatisch erhöhen, indem wir sie auf 12 erhöhen:"
   ]
  },
  {
   "cell_type": "code",
   "execution_count": 11,
   "metadata": {},
   "outputs": [
    {
     "name": "stdout",
     "output_type": "stream",
     "text": [
      "68719476736\n",
      "37\n"
     ]
    }
   ],
   "source": [
    "b = a**12\n",
    "print(b)\n",
    "type(b)\n",
    "print(b.bit_length())"
   ]
  },
  {
   "cell_type": "markdown",
   "metadata": {},
   "source": [
    "We see that 37 bits are required to represent the number. If the `int` type was limited to 32 bits for storing the value, this operation would have caused an overflow.\n",
    "Wir sehen, dass 37 Bits erforderlich sind, um die Zahl darzustellen. Wenn der \"int\" -Typ zum Speichern des Werts auf 32 Bit begrenzt ist, hätte dieser Vorgang einen Überlauf verursacht."
   ]
  },
  {
   "cell_type": "markdown",
   "metadata": {},
   "source": [
    "#### Gangnam Style\n",
    "\n",
    "In 2014, Google switched from 32-bit integers to 64-bit integers to count views when the video \"Gangnam Style\" was viewed more than 2,147,483,647 times, which is the limit of 32-bit integers (see https://plus.google.com/+YouTube/posts/BUXfdWqu86Q).\n",
    "\n",
    "Gangnam Style\n",
    "\n",
    "Im Jahr 2014 wechselte Google von 32-Bit-Ganzzahlen auf 64-Bit-Ganzzahlen, um die Ansichten zu zählen, wenn das Video \"Gangnam Style\" mehr als 2.147.483.647 Mal angesehen wurde. Dies ist die Grenze für 32-Bit-Ganzzahlen"
   ]
  },
  {
   "cell_type": "markdown",
   "metadata": {},
   "source": [
    "#### Boeing 787 Dreamliner bug\n",
    "\n",
    "Due to an integer overflow bug, the electricity generators on a Boeing 787 will shut down if the plane is\n",
    "powered continuously for 248 days, due to an overflow. The 'quick fix' was to make sure that \n",
    "generator control units do not operate for more than 248 days.\n",
    "See \n",
    "\n",
    "Boeing 787 Dreamliner Fehler\n",
    "\n",
    "Aufgrund eines ganzzahligen Überlauffehlers werden die Stromgeneratoren einer Boeing 787 heruntergefahren, wenn das Flugzeug vorhanden ist\n",
    "248 Tage ununterbrochen mit Strom versorgt, aufgrund eines Überlaufs. Die \"schnelle Lösung\" bestand darin, dies sicherzustellen\n",
    "Generatorsteuergeräte funktionieren nicht länger als 248 Tage.\n",
    "Sehen\n",
    "\n",
    "https://www.theguardian.com/business/2015/may/01/us-aviation-authority-boeing-787-dreamliner-bug-could-cause-loss-of-control and \n",
    "https://s3.amazonaws.com/public-inspection.federalregister.gov/2015-10066.pdf for background."
   ]
  },
  {
   "cell_type": "markdown",
   "metadata": {},
   "source": [
    "##  Floating point storage\n",
    "\n",
    "Most engineering calculations involve numbers that cannot be represented as integers. Numbers that have a \n",
    "decimal point are stored using the `float` type. Computers store floating point numbers by storing the sign, the significand (also known as the mantissa) and the exponent, e.g.: for $10.45$\n",
    "\n",
    "Die meisten Konstruktionsberechnungen enthalten Zahlen, die nicht als Ganzzahlen dargestellt werden können. Zahlen mit Dezimalpunkt werden mit dem Float-Typ gespeichert. Computer speichern Gleitkommazahlen, indem sie das Vorzeichen, den Signifikand (auch bekannt als Mantisse) und den Exponenten speichern, z. B. für 10.45\n",
    "\n",
    "$$\n",
    "10.45 = \\underbrace{+}_{\\text{sign}} \\underbrace{1045}_{\\text{significand}} \\times \\underbrace{10^{-2}}_{\\text{exponent} = -2}\n",
    "$$\n",
    "\n",
    "Python uses 64 bits to store a `float` (in C and C++ this is known as a `double`). The sign requires one bit, and there are standards that specify how many bits should be used for the significand and how many for the exponent.\n",
    "\n",
    "Since a finite number of bits are used to store a number, the precision with which numbers can be represented is limited. As a guide, using 64 bits a floating point number is precise to 15 to 17 significant figures.\n",
    "More on this, and why the Patriot missile failed, later.\n",
    "\n",
    "Python verwendet 64 Bits, um einen \"Float\" zu speichern (in C und C ++ wird dies als \"Double\" bezeichnet). Das Vorzeichen erfordert ein Bit, und es gibt Standards, die angeben, wie viele Bits für den Signifikanz und wie viele für den Exponenten verwendet werden sollen.\n",
    "\n",
    "Da eine endliche Anzahl von Bits zum Speichern einer Zahl verwendet wird, ist die Genauigkeit, mit der Zahlen dargestellt werden können, begrenzt. Bei der Verwendung von 64 Bits ist eine Fließkommazahl auf 15 bis 17 signifikante Stellen genau.\n",
    "Mehr dazu und warum die Patriot-Rakete später versagte."
   ]
  },
  {
   "cell_type": "markdown",
   "metadata": {},
   "source": [
    "### Floats\n",
    "\n",
    "We can declare a float by adding a decimal point:\n",
    "Wir können einen Float deklarieren, indem Sie einen Dezimalpunkt hinzufügen:"
   ]
  },
  {
   "cell_type": "code",
   "execution_count": 12,
   "metadata": {},
   "outputs": [
    {
     "name": "stdout",
     "output_type": "stream",
     "text": [
      "2.0\n",
      "<class 'float'>\n",
      "3.0\n",
      "<class 'float'>\n"
     ]
    }
   ],
   "source": [
    "a = 2.0\n",
    "print(a)\n",
    "print(type(a))\n",
    "\n",
    "b = 3.\n",
    "print(b)\n",
    "print(type(b))"
   ]
  },
  {
   "cell_type": "markdown",
   "metadata": {},
   "source": [
    "or by using `e` or `E` (the choice between `e` and `E` is just a matter of taste):\n",
    "oder mit \"e\" oder \"E\" (die Wahl zwischen \"e\" und \"E\" ist nur eine Frage des Geschmacks):"
   ]
  },
  {
   "cell_type": "code",
   "execution_count": 13,
   "metadata": {},
   "outputs": [
    {
     "name": "stdout",
     "output_type": "stream",
     "text": [
      "2.0 <class 'float'>\n",
      "2000.0 <class 'float'>\n",
      "2100.0 <class 'float'>\n"
     ]
    }
   ],
   "source": [
    "a = 2e0\n",
    "print(a, type(a))\n",
    "\n",
    "b = 2e3\n",
    "print(b, type(b))\n",
    "\n",
    "c = 2.1E3\n",
    "print(c, type(c))"
   ]
  },
  {
   "cell_type": "markdown",
   "metadata": {},
   "source": [
    "### Complex numbers\n",
    "\n",
    "A complex number is a more elaborate float with two parts - the real and imaginary components. We can declare a complex number in Python by adding `j` or `J` after the complex part of the number:\n",
    "Eine komplexe Zahl ist ein aufwendigerer Float mit zwei Teilen - den realen und den imaginären Komponenten. Wir können eine komplexe Zahl in Python deklarieren, indem Sie nach dem komplexen Teil der Zahl \"j\" oder \"J\" hinzufügen:"
   ]
  },
  {
   "cell_type": "code",
   "execution_count": 14,
   "metadata": {},
   "outputs": [
    {
     "name": "stdout",
     "output_type": "stream",
     "text": [
      "2j <class 'complex'>\n",
      "(4-3j) <class 'complex'>\n"
     ]
    }
   ],
   "source": [
    "a = 2j\n",
    "print(a, type(a))\n",
    "\n",
    "b = 4 - 3j\n",
    "print(b, type(b))"
   ]
  },
  {
   "cell_type": "markdown",
   "metadata": {},
   "source": [
    "The usual addition, subtraction, multiplication and division operations can all be performed on complex numbers. The real and imaginary parts can be extracted:\n",
    "\n",
    "Die üblichen Additions-, Subtraktions-, Multiplikations- und Divisionsoperationen können alle mit komplexen Zahlen durchgeführt werden. Die Real- und Imaginärteile können extrahiert werden:"
   ]
  },
  {
   "cell_type": "code",
   "execution_count": 15,
   "metadata": {},
   "outputs": [
    {
     "name": "stdout",
     "output_type": "stream",
     "text": [
      "-3.0\n",
      "4.0\n"
     ]
    }
   ],
   "source": [
    "print(b.imag)\n",
    "print(b.real)"
   ]
  },
  {
   "cell_type": "markdown",
   "metadata": {},
   "source": [
    "and the complex conjugate can be taken:\n",
    "\n",
    "und das komplexe Konjugtion kann genommen werden:"
   ]
  },
  {
   "cell_type": "code",
   "execution_count": 16,
   "metadata": {},
   "outputs": [
    {
     "name": "stdout",
     "output_type": "stream",
     "text": [
      "(4+3j)\n"
     ]
    }
   ],
   "source": [
    "print(b.conjugate())"
   ]
  },
  {
   "cell_type": "markdown",
   "metadata": {},
   "source": [
    "We can compute the modulus of a complex number using `abs`:\n",
    "\n",
    "Wir können den Modulus einer komplexen Zahl mit \"abs\" berechnen:"
   ]
  },
  {
   "cell_type": "code",
   "execution_count": 17,
   "metadata": {},
   "outputs": [
    {
     "name": "stdout",
     "output_type": "stream",
     "text": [
      "5.0\n"
     ]
    }
   ],
   "source": [
    "print(abs(b))"
   ]
  },
  {
   "cell_type": "markdown",
   "metadata": {},
   "source": [
    "More generally, `abs` returns the absolute value, e.g.:\n",
    "\n",
    "Allgemeiner gibt \"abs\" den absoluten Wert zurück, z."
   ]
  },
  {
   "cell_type": "code",
   "execution_count": 18,
   "metadata": {},
   "outputs": [
    {
     "name": "stdout",
     "output_type": "stream",
     "text": [
      "21.6\n"
     ]
    }
   ],
   "source": [
    "a = -21.6\n",
    "a = abs(a)\n",
    "print(a)"
   ]
  },
  {
   "cell_type": "markdown",
   "metadata": {},
   "source": [
    "# Type conversions (casting)\n",
    "\n",
    "We can often change between types. This is called *type conversion* or *type casting*. In some cases it happens implicitly, and in other cases we can instruct our program to change the type.\n",
    "\n",
    "If we add two integers, the results will be an integer:\n",
    "\n",
    "Wir können oft zwischen den Typen wechseln. Dies wird als * Typumwandlung * oder * Typgießen * bezeichnet. In einigen Fällen geschieht dies implizit, und in anderen Fällen können wir unser Programm anweisen, den Typ zu ändern.\n",
    "\n",
    "Wenn wir zwei Ganzzahlen hinzufügen, werden die Ergebnisse eine Ganzzahl sein:"
   ]
  },
  {
   "cell_type": "code",
   "execution_count": 19,
   "metadata": {},
   "outputs": [
    {
     "name": "stdout",
     "output_type": "stream",
     "text": [
      "19 <class 'int'>\n"
     ]
    }
   ],
   "source": [
    "a = 4\n",
    "b = 15\n",
    "c = a + b\n",
    "print(c, type(c))"
   ]
  },
  {
   "cell_type": "markdown",
   "metadata": {},
   "source": [
    "However, if we add an `int` and a `float`, the result will be a float:\n",
    "\n",
    "Wenn wir jedoch ein \"int\" und ein \"float\" hinzufügen, wird das Ergebnis ein float sein:"
   ]
  },
  {
   "cell_type": "code",
   "execution_count": 20,
   "metadata": {},
   "outputs": [
    {
     "name": "stdout",
     "output_type": "stream",
     "text": [
      "19.0 <class 'float'>\n"
     ]
    }
   ],
   "source": [
    "a = 4\n",
    "b = 15.0  # Adding the '.0' tells Python that it is a float\n",
    "c = a + b\n",
    "print(c, type(c))"
   ]
  },
  {
   "cell_type": "markdown",
   "metadata": {},
   "source": [
    "If we divide two integers, the result will be a `float`:\n",
    "\n",
    "Wenn wir zwei Ganzzahlen teilen, ist das Ergebnis ein \"Float\":"
   ]
  },
  {
   "cell_type": "code",
   "execution_count": 21,
   "metadata": {},
   "outputs": [
    {
     "name": "stdout",
     "output_type": "stream",
     "text": [
      "4.0 <class 'float'>\n"
     ]
    }
   ],
   "source": [
    "a = 16\n",
    "b = 4\n",
    "c = a/b\n",
    "print(c, type(c))\n",
    "b = 2"
   ]
  },
  {
   "cell_type": "markdown",
   "metadata": {},
   "source": [
    "When dividing two integers, we can do 'integer division' using `//`, e.g.\n",
    "\n",
    "Wenn Sie zwei Ganzzahlen teilen, können Sie eine Ganzzahldivision mit \"//\" ausführen, z."
   ]
  },
  {
   "cell_type": "code",
   "execution_count": 22,
   "metadata": {},
   "outputs": [
    {
     "name": "stdout",
     "output_type": "stream",
     "text": [
      "5 <class 'int'>\n"
     ]
    }
   ],
   "source": [
    "a = 16\n",
    "b = 3\n",
    "c = a//b\n",
    "print(c, type(c))"
   ]
  },
  {
   "cell_type": "markdown",
   "metadata": {},
   "source": [
    "in which case the result is an `int`.\n",
    "\n",
    "In general, operations that mix an `int` and `float` will generate a `float`, and operations that mix an `int` or a `float` with `complex` will return a `complex` type. If in doubt, use `type` to experiment and check.  \n",
    "\n",
    "In diesem Fall ist das Ergebnis ein \"int\".\n",
    "\n",
    "Im Allgemeinen erzeugen Operationen, die ein \"int\" und \"float\" mischen, ein \"float\", und Operationen, die ein \"int\" oder ein \"float\" mit \"complex\" mischen, geben einen \"komplexen\" Typ zurück. Wenn Sie Zweifel haben, verwenden Sie 'type' zum Experimentieren und Überprüfen."
   ]
  },
  {
   "cell_type": "markdown",
   "metadata": {},
   "source": [
    "## Explicit type conversion\n",
    "\n",
    "We can explicitly change the type (perform a cast), e.g. cast from an `int` to a `float`:\n",
    "\n",
    "Wir können den Typ explizit ändern (Cast durchführen), z. Besetzung von \"int\" in \"float\":"
   ]
  },
  {
   "cell_type": "code",
   "execution_count": 23,
   "metadata": {},
   "outputs": [
    {
     "name": "stdout",
     "output_type": "stream",
     "text": [
      "1 <class 'int'>\n",
      "1.0 <class 'float'>\n"
     ]
    }
   ],
   "source": [
    "a = 1\n",
    "print(a, type(a))\n",
    "\n",
    "a = float(a)  # This converts the int associated with 'a' to a float, and assigns the result to the variable 'a'\n",
    "print(a, type(a))"
   ]
  },
  {
   "cell_type": "markdown",
   "metadata": {},
   "source": [
    "Going the other way,\n",
    "\n",
    "Den anderen Weg gehen,"
   ]
  },
  {
   "cell_type": "code",
   "execution_count": 24,
   "metadata": {},
   "outputs": [
    {
     "name": "stdout",
     "output_type": "stream",
     "text": [
      "1.99 <class 'float'>\n",
      "1 <class 'int'>\n"
     ]
    }
   ],
   "source": [
    "y = 1.99\n",
    "print(y, type(y))\n",
    "\n",
    "z = int(y)\n",
    "print(z, type(z))"
   ]
  },
  {
   "cell_type": "markdown",
   "metadata": {},
   "source": [
    "Note that rounding is applied when converting from a `float` to an `int`; the values after the decimal point are discarded. This type of rounding is called 'round towards zero' or 'truncation'.\n",
    "\n",
    "A common task is converting numerical types to-and-from strings. We might read a number from a file as a string, or a user might input a value which Python reads in as a string. Converting a float to a string:\n",
    "\n",
    "Beachten Sie, dass beim Konvertieren von \"float\" in \"int\" eine Rundung angewendet wird. Die Werte nach dem Komma werden verworfen. Diese Art der Rundung wird als \"Rundung gegen Null\" oder \"Verkürzung\" bezeichnet.\n",
    "\n",
    "Eine übliche Aufgabe ist das Konvertieren von numerischen Typen in und aus Strings. Wir lesen möglicherweise eine Zahl aus einer Datei als Zeichenfolge oder ein Benutzer gibt einen Wert ein, den Python als Zeichenfolge einliest. Einen Float in einen String konvertieren:"
   ]
  },
  {
   "cell_type": "code",
   "execution_count": 25,
   "metadata": {},
   "outputs": [
    {
     "name": "stdout",
     "output_type": "stream",
     "text": [
      "1.023 <class 'str'>\n"
     ]
    }
   ],
   "source": [
    "a = 1.023\n",
    "b = str(a)\n",
    "print(b, type(b))"
   ]
  },
  {
   "cell_type": "markdown",
   "metadata": {},
   "source": [
    "and in the other direction:\n",
    "\n",
    "und in die andere Richtung:"
   ]
  },
  {
   "cell_type": "code",
   "execution_count": 26,
   "metadata": {},
   "outputs": [
    {
     "name": "stdout",
     "output_type": "stream",
     "text": [
      "15.0718.07\n",
      "33.14\n"
     ]
    }
   ],
   "source": [
    "a = \"15.07\"\n",
    "b = \"18.07\"\n",
    "\n",
    "print(a + b)\n",
    "print(float(a) + float(b))"
   ]
  },
  {
   "cell_type": "markdown",
   "metadata": {},
   "source": [
    "If we tried \n",
    "```python\n",
    "print(int(a) + int(b))\n",
    "```\n",
    "we could get an error that the strings could not be converted to `int`. It works in the case:\n",
    "\n",
    "Es könnte ein Fehler auftreten, dass die Zeichenfolgen nicht in int konvertiert werden konnten. Es funktioniert in dem Fall:"
   ]
  },
  {
   "cell_type": "code",
   "execution_count": 27,
   "metadata": {},
   "outputs": [
    {
     "name": "stdout",
     "output_type": "stream",
     "text": [
      "33\n"
     ]
    }
   ],
   "source": [
    "a = \"15\"\n",
    "b = \"18\"\n",
    "print(int(a) + int(b))"
   ]
  },
  {
   "cell_type": "markdown",
   "metadata": {},
   "source": [
    "since these strings can be correctly cast to integers.\n",
    "\n",
    "da diese Zeichenfolgen korrekt in Ganzzahlen umgewandelt werden können."
   ]
  },
  {
   "cell_type": "markdown",
   "metadata": {},
   "source": [
    "## Ariane 5 rocket explosion and type conversion\n",
    "\n",
    "The Ariane 5 rocket explosion was caused by an integer overflow. The speed of the rocket was stored as a 64-bit float, and this was converted in the navigation software to a 16-bit integer. However, the value of the float was greater than $32767$, the largest number a 16-bit integer can represent, and this led to an overflow that in turn caused the navigation system to fail and the rocket to explode.\n",
    "\n",
    "We can demonstrate what happened in the rocket program. We consider a speed of $40000.54$ (units are not relevant to what is being demonstrated), stored as a `float` (64 bits):\n",
    "\n",
    "Die Ariane-5-Raketenexplosion wurde durch einen ganzzahligen Überlauf verursacht. Die Geschwindigkeit der Rakete wurde als 64-Bit-Float gespeichert und in der Navigationssoftware in eine 16-Bit-Ganzzahl umgewandelt. Der Wert des Floats war jedoch höher als $ 32767 $. Die größte Zahl, die eine 16-Bit-Ganzzahl darstellen kann, führte zu einem Überlauf, der wiederum dazu führte, dass das Navigationssystem ausfiel und die Rakete explodierte.\n",
    "\n",
    "Wir können demonstrieren, was im Raketenprogramm passiert ist. Wir betrachten eine Geschwindigkeit von 40000,54 $ (Einheiten sind nicht relevant für das, was demonstriert wird), gespeichert als \"Float\" (64 Bit):"
   ]
  },
  {
   "cell_type": "code",
   "execution_count": 28,
   "metadata": {},
   "outputs": [],
   "source": [
    "speed_float = 40000.54"
   ]
  },
  {
   "cell_type": "markdown",
   "metadata": {},
   "source": [
    "If we first convert the float to a 32-bit `int` (we use NumPy to get integers with a fixed number of bits, more on NumPy in a later notebook):\n",
    "\n",
    "Wenn wir den Float zuerst in ein 32-Bit-Int (konvertieren) konvertieren (wir verwenden NumPy, um Ganzzahlen mit einer festen Anzahl von Bits zu erhalten, mehr zu NumPy in einem späteren Notizbuch):"
   ]
  },
  {
   "cell_type": "code",
   "execution_count": 29,
   "metadata": {},
   "outputs": [
    {
     "name": "stdout",
     "output_type": "stream",
     "text": [
      "40000\n"
     ]
    }
   ],
   "source": [
    "import numpy as np\n",
    "speed_int = np.int32(speed_float)  # Convert the speed to a 32-bit int\n",
    "print(speed_int)"
   ]
  },
  {
   "cell_type": "markdown",
   "metadata": {},
   "source": [
    "The conversion behaves as we would expect. Now, if we convert the speed from the `float` to a 16-bit integer:\n",
    "\n",
    "Die Konvertierung verhält sich wie erwartet. Wenn wir nun die Geschwindigkeit vom \"float\" in eine 16-Bit-Ganzzahl konvertieren:"
   ]
  },
  {
   "cell_type": "code",
   "execution_count": 30,
   "metadata": {},
   "outputs": [
    {
     "name": "stdout",
     "output_type": "stream",
     "text": [
      "-25536\n"
     ]
    }
   ],
   "source": [
    "speed_int = np.int16(speed_float)\n",
    "print(speed_int)"
   ]
  },
  {
   "cell_type": "markdown",
   "metadata": {},
   "source": [
    "We see clearly the result of an integer overflow since the 16-bit integer has too few bits to represent the number \n",
    "40000.\n",
    "\n",
    "The Ariane 5 failure would have been averted with pre-launch testing and the following few lines:\n",
    "\n",
    "Wir sehen deutlich das Ergebnis eines Ganzzahlüberlaufs, da die 16-Bit-Ganzzahl zu wenige Bits aufweist, um die Zahl darzustellen\n",
    "40000.\n",
    "\n",
    "Der Ausfall der Ariane 5 wäre durch Tests vor dem Start und den folgenden wenigen Zeilen verhindert worden:"
   ]
  },
  {
   "cell_type": "code",
   "execution_count": 31,
   "metadata": {},
   "outputs": [
    {
     "name": "stdout",
     "output_type": "stream",
     "text": [
      "***Error, cannot assign speed to 16-bit int. Will cause overflow.\n"
     ]
    }
   ],
   "source": [
    "if abs(speed_float) > np.iinfo(np.int16).max:\n",
    "    print(\"***Error, cannot assign speed to 16-bit int. Will cause overflow.\")\n",
    "    # Call command here to exit program\n",
    "else:\n",
    "    speed_int = np.int16(speed_float)"
   ]
  },
  {
   "cell_type": "markdown",
   "metadata": {},
   "source": [
    "These few lines and careful testing would have saved the $500M payload and the cost of the rocket.\n",
    "\n",
    "The Ariane 5 incident is an example not only of a poor piece of programming, but also very poor testing and software engineering. Careful pre-launch testing of the software would have detected this problem. The program should have checked the value of the velocity before performing the conversion, and triggered an error message that the type conversion would cause an overflow.\n",
    "\n",
    "Diese wenigen Leitungen und sorgfältige Tests hätten die Nutzlast von 500 Millionen US-Dollar und die Kosten der Rakete eingespart.\n",
    "\n",
    "Der Vorfall der Ariane 5 ist nicht nur ein Beispiel für eine schlechte Programmierung, sondern auch für sehr schlechte Test- und Softwareentwicklung. Ein sorgfältiges Testen der Software vor dem Start hätte dieses Problem erkannt. Das Programm sollte vor der Konvertierung den Wert der Geschwindigkeit überprüft und eine Fehlermeldung ausgegeben haben, dass die Typkonvertierung einen Überlauf verursachen würde."
   ]
  },
  {
   "cell_type": "markdown",
   "metadata": {},
   "source": [
    "# Binary representation and floating point arithmetic\n",
    "\n",
    "## Binary (base 2) representation\n",
    "\n",
    "Computers store data using 'bits', and a bit is a switch that can have a value of 0 or 1. This means that computers store numbers in binary (base 2), whereas we almost always work with decimal numbers (base 10).\n",
    "For example, the binary number $110$ is equal to\n",
    "\n",
    "Computer speichern Daten mit 'Bits', und ein Bit ist ein Schalter, der den Wert 0 oder 1 annehmen kann. Dies bedeutet, dass Computer Zahlen binär (Basis 2) speichern, während wir fast immer mit Dezimalzahlen (Basis 10) arbeiten.\n",
    "Zum Beispiel ist die Binärzahl $ 110 $ gleich $ 0\n",
    "\n",
    "$0 \\times 2^{0} + 1 \\times 2^{1} + 1 \\times 2^{2} = 6$\n",
    "(read $110$ right-to-left).\n",
    "Below is a table with decimal (base 10) and the corresponding binary (base 2) representation of some numbers. \n",
    "\n",
    "Nachfolgend finden Sie eine Tabelle mit Dezimalzahlen (Basis 10) und der entsprechenden binären (Basis 2) Darstellung einiger Zahlen.\n",
    "See <https://en.wikipedia.org/wiki/Binary_number> if you want to learn more.\n",
    "\n",
    "|Decimal | Binary  |\n",
    "| ------ |-------- |\n",
    "|0       |\t   0   | \n",
    "|1       |\t1      | \n",
    "|2       |\t10     |\n",
    "|3       |\t11     |\n",
    "|4       |\t100    |\n",
    "|5       |\t101    |\n",
    "|6       |\t110    |\n",
    "|7       |\t111    |\n",
    "|8       |\t1000   |\n",
    "|9       |\t1001   |\n",
    "|10      |\t1010   |\n",
    "|11\t     |  1011   |\n",
    "|12\t     |  1100   |\n",
    "|13      |\t1101   |\n",
    "|14      |\t1110   |\n",
    "|15      |\t1111   |\n",
    "\n",
    "To represent any integer, all we need are enough bits to store the binary representation. If we have $n$ bits, the largest number we can store is $2^{n -1} - 1$ (the power is $n - 1$ because we use one bit to store the sign of the integer).\n",
    "\n",
    "We can display the binary representation of an integer in Python using the function `bin`:\n",
    "\n",
    "Um eine ganze Zahl darzustellen, brauchen wir nur genug Bits, um die binäre Darstellung zu speichern. Wenn wir $ n $ -Bits haben, ist die größte Anzahl, die wir speichern können, $ 2 ^ {n -1} - 1 $ (die Potenz ist $ n - 1 $, da wir das Vorzeichen der Ganzzahl mit einem Bit speichern).\n",
    "\n",
    "Wir können die binäre Darstellung einer Ganzzahl in Python mit der Funktion `bin` anzeigen:"
   ]
  },
  {
   "cell_type": "code",
   "execution_count": 32,
   "metadata": {},
   "outputs": [
    {
     "name": "stdout",
     "output_type": "stream",
     "text": [
      "0b10\n",
      "0b110\n",
      "0b1101110\n"
     ]
    }
   ],
   "source": [
    "print(bin(2))\n",
    "print(bin(6))\n",
    "print(bin(110))"
   ]
  },
  {
   "cell_type": "markdown",
   "metadata": {},
   "source": [
    "The prefix `0b` is to denote that the representation is binary.\n",
    "\n",
    "Das Präfix '0b' gibt an, dass die Darstellung binär ist."
   ]
  },
  {
   "cell_type": "markdown",
   "metadata": {
    "collapsed": true
   },
   "source": [
    "## Floating point numbers\n",
    "\n",
    "We introduced the representation\n",
    "\n",
    "Wir haben die Darstellung eingeführt\n",
    "\n",
    "$$\n",
    "10.45 = \\underbrace{+}_{\\text{sign}} \\underbrace{1045}_{\\text{significand}} \\times \\underbrace{10^{-2}}_{\\text{exponent}}\n",
    "$$\n",
    "\n",
    "earlier. However, this was a little misleading because computers do not use base 10\n",
    "to store the significand and the exponent, but base 2. \n",
    "\n",
    "When using the familiar base 10, we cannot represent $1/3$ exactly as a decimal. If we liked using base 3 (ternary numeral system) for our mental arithmetic (which we really don't), we could represent $1/3$ exactly. However, fractions that are simple to represent exactly in base 10 might not be representable in another base.\n",
    "A consequence is that fractions that are simple in base 10 cannot necessarily be represented exactly by computers using binary.\n",
    "\n",
    "A classic example is $1/10 = 0.1$. This simple number cannot be represented exactly in\n",
    "binary. On the contrary, $1/2 = 0.5$ can be represented exactly. To explore this, let's assign the number 0.1 to the variable `x` and print the result:\n",
    "\n",
    "vorhin. Dies war jedoch etwas irreführend, da Computer nicht die Basis 10 verwenden\n",
    "um den signifikanten und den Exponenten zu speichern, aber Basis 2.\n",
    "\n",
    "Bei Verwendung der bekannten Basis 10 können wir $ 1/3 $ nicht exakt als Dezimalzahl darstellen. Wenn wir Basis 3 (Ternäres Zahlensystem) für unsere mentale Arithmetik verwenden wollten (was wir wirklich nicht tun), könnten wir 1/3 $ genau darstellen. Brüche, die in der Basis 10 einfach dargestellt werden können, sind jedoch möglicherweise nicht in einer anderen Basis darstellbar.\n",
    "Dies hat zur Folge, dass Bruchteile, die in der Basis 10 einfach sind, nicht unbedingt von binären Computern korrekt dargestellt werden können.\n",
    "\n",
    "Ein klassisches Beispiel ist $ 1/10 = 0,1 $. Diese einfache Nummer kann nicht exakt in dargestellt werden\n",
    "binär. Im Gegensatz dazu kann $ 1/2 = 0,5 $ genau dargestellt werden. Um dies herauszufinden, weisen wir der Variablen 'x' die Nummer 0,1 zu und drucken das Ergebnis:"
   ]
  },
  {
   "cell_type": "code",
   "execution_count": 33,
   "metadata": {},
   "outputs": [
    {
     "name": "stdout",
     "output_type": "stream",
     "text": [
      "0.1\n"
     ]
    }
   ],
   "source": [
    "x = 0.1\n",
    "print(x)"
   ]
  },
  {
   "cell_type": "markdown",
   "metadata": {},
   "source": [
    "This looks fine, but the `print` statement is hiding some details. Asking the `print` statement to use 30 characters we see that `x` is not exactly 0.1:\n",
    "\n",
    "Das sieht gut aus, aber die \"print\" -Anweisung verbirgt einige Details. Wenn Sie die `print`-Anweisung bitten, 30 Zeichen zu verwenden, sehen wir, dass 'x' nicht genau 0,1 ist:"
   ]
  },
  {
   "cell_type": "code",
   "execution_count": 34,
   "metadata": {},
   "outputs": [
    {
     "name": "stdout",
     "output_type": "stream",
     "text": [
      "0.100000000000000005551115123126\n"
     ]
    }
   ],
   "source": [
    "print('{0:.30f}'.format(x))"
   ]
  },
  {
   "cell_type": "markdown",
   "metadata": {},
   "source": [
    "The difference between 0.1 and the binary representation is the *roundoff error* (we'll look at print formatting syntax in a later activity). From the above, we can see that the representation is accurate to about 17 significant figures.\n",
    "\n",
    "Checking for 0.5, we see that it appears to be represented exactly:\n",
    "\n",
    "Der Unterschied zwischen 0.1 und der Binärdarstellung ist der * Rundungsfehler * (die Formatierungssyntax des Druckens wird in einer späteren Übung beschrieben). Aus dem Obigen ist ersichtlich, dass die Darstellung auf ungefähr 17 signifikante Zahlen genau ist.\n",
    "\n",
    "Bei der Überprüfung von 0,5 sehen wir, dass es genau dargestellt zu sein scheint:"
   ]
  },
  {
   "cell_type": "code",
   "execution_count": 35,
   "metadata": {},
   "outputs": [
    {
     "name": "stdout",
     "output_type": "stream",
     "text": [
      "0.500000000000000000000000000000\n"
     ]
    }
   ],
   "source": [
    "print('{0:.30f}'.format(0.5))"
   ]
  },
  {
   "cell_type": "markdown",
   "metadata": {},
   "source": [
    "The round-off error for the 0.1 case is small, and in many cases will not present a problem. However, sometimes round-off errors can accumulate and destroy accuracy.\n",
    "\n",
    "Der Rundungsfehler für den 0,1-Fall ist klein und stellt in vielen Fällen kein Problem dar. Manchmal können Rundungsfehler jedoch akkumulieren und die Genauigkeit zerstören."
   ]
  },
  {
   "cell_type": "markdown",
   "metadata": {},
   "source": [
    "### Example: inexact representation\n",
    "\n",
    "It is trivial that\n",
    "\n",
    "$$\n",
    "x = 11x - 10x\n",
    "$$\n",
    "\n",
    "If $x = 0.1$, we can  write\n",
    "\n",
    "$$\n",
    "x = 11x - 1\n",
    "$$\n",
    "\n",
    "Now, starting with $x = 0.1$ we evaluate the right-hand side to get a 'new' $x$, and use this new $x$ to then evaluate the right-hand side again. The arithmetic is trivial: $x$ should remain equal to $0.1$.\n",
    "We test this in a program that repeats this process 20 times: \n",
    "\n",
    "Beginnend mit $ x = 0,1 $ werten wir nun die rechte Seite aus, um ein \"neues\" $ x $ zu erhalten, und verwenden dieses neue $ x $, um die rechte Seite erneut auszuwerten. Die Arithmetik ist trivial: $ x $ sollte bei $ 0,1 $ bleiben.\n",
    "Wir testen das in einem Programm, das diesen Vorgang 20 Mal wiederholt:"
   ]
  },
  {
   "cell_type": "code",
   "execution_count": 36,
   "metadata": {},
   "outputs": [
    {
     "name": "stdout",
     "output_type": "stream",
     "text": [
      "0.10000000000000009\n",
      "0.10000000000000098\n",
      "0.10000000000001075\n",
      "0.10000000000011822\n",
      "0.10000000000130038\n",
      "0.1000000000143042\n",
      "0.10000000015734622\n",
      "0.10000000173080847\n",
      "0.10000001903889322\n",
      "0.10000020942782539\n",
      "0.10000230370607932\n",
      "0.10002534076687253\n",
      "0.10027874843559781\n",
      "0.1030662327915759\n",
      "0.13372856070733485\n",
      "0.4710141677806834\n",
      "4.181155845587517\n",
      "44.992714301462684\n",
      "493.9198573160895\n",
      "5432.118430476985\n"
     ]
    }
   ],
   "source": [
    "x = 0.1\n",
    "for i in range(20):\n",
    "    x = x*11 - 1\n",
    "    print(x)"
   ]
  },
  {
   "cell_type": "markdown",
   "metadata": {},
   "source": [
    "The solution blows up and deviates widely from $x = 0.1$. Round-off errors are amplified at each step, leading to a completely wrong answer. The computer representation of $0.1$ is not exact, and every time we multiply $0.1$ by $11$, we increase the error by around a factor of 10 (we can see above that we lose a digit of accuracy in each step). \n",
    "You can observe the same issue using spreadsheet programs.\n",
    "\n",
    "Die Lösung sprengt und weicht stark von $ x = 0,1 $ ab. Rundungsfehler werden bei jedem Schritt verstärkt und führen zu einer völlig falschen Antwort. Die Computerrepräsentation von $ 0,1 $ ist nicht exakt, und jedes Mal, wenn wir $ 0,1 $ mit $ 11 $ multiplizieren, erhöhen wir den Fehler um einen Faktor von 10 (wir können oben sehen, dass wir in jedem Schritt eine Genauigkeitsziffer verlieren).\n",
    "Sie können dasselbe Problem mit Tabellenkalkulationsprogrammen beobachten."
   ]
  },
  {
   "cell_type": "markdown",
   "metadata": {},
   "source": [
    "If we use $x = 0.5$, which can be represented exactly in binary:"
   ]
  },
  {
   "cell_type": "code",
   "execution_count": 37,
   "metadata": {},
   "outputs": [
    {
     "name": "stdout",
     "output_type": "stream",
     "text": [
      "0.5\n",
      "0.5\n",
      "0.5\n",
      "0.5\n",
      "0.5\n",
      "0.5\n",
      "0.5\n",
      "0.5\n",
      "0.5\n",
      "0.5\n",
      "0.5\n",
      "0.5\n",
      "0.5\n",
      "0.5\n",
      "0.5\n",
      "0.5\n",
      "0.5\n",
      "0.5\n",
      "0.5\n",
      "0.5\n"
     ]
    }
   ],
   "source": [
    "x = 0.5\n",
    "for i in range(20):\n",
    "    x = x*11 - 5\n",
    "    print(x)"
   ]
  },
  {
   "cell_type": "markdown",
   "metadata": {},
   "source": [
    "The result is exact in this case.\n",
    "\n",
    "By default, Python uses 64 bits to store a float. We can use the module NumPy to create a \n",
    "float that uses only 32 bits. Testing this for the $x = 0.1$ case:\n",
    "\n",
    "Das Ergebnis ist in diesem Fall genau.\n",
    "\n",
    "Standardmäßig verwendet Python 64 Bits, um einen Float zu speichern. Wir können das Modul NumPy verwenden, um eine\n",
    "Float, der nur 32 Bit verwendet. Testen Sie dies für den Fall $ x = 0,1 $:"
   ]
  },
  {
   "cell_type": "code",
   "execution_count": 38,
   "metadata": {},
   "outputs": [
    {
     "name": "stdout",
     "output_type": "stream",
     "text": [
      "0.10000001639127731\n",
      "0.10000018030405045\n",
      "0.1000019833445549\n",
      "0.10002181679010391\n",
      "0.10023998469114304\n",
      "0.1026398316025734\n",
      "0.12903814762830734\n",
      "0.41941962391138077\n",
      "3.6136158630251884\n",
      "38.74977449327707\n",
      "425.2475194260478\n",
      "4676.722713686526\n",
      "51442.949850551784\n",
      "565871.4483560696\n",
      "6224584.931916766\n",
      "68470433.25108442\n",
      "753174764.7619286\n",
      "8284922411.381214\n",
      "91134146524.19336\n",
      "1002475611765.127\n"
     ]
    }
   ],
   "source": [
    "x = np.float32(0.1)\n",
    "for i in range(20):\n",
    "    x = x*11 - 1\n",
    "    print(x)"
   ]
  },
  {
   "cell_type": "markdown",
   "metadata": {},
   "source": [
    "The error blows up faster in this case compared to the 64 bit case - using 32 bits leads to a poorer approximation of $0.1$ than when using 64 bits.\n",
    "\n",
    "*Note:* Some languages have special tools for performing decimal (base 10) arithmetic (e.g., https://docs.python.org/3/library/decimal.html). This would, for example, allow $0.1$ to be represented exactly. However, decimal is not the 'natural' arithmetic of computers so operations in decimal could be expected to be much slower.\n",
    "\n",
    "Der Fehler springt in diesem Fall im Vergleich zum 64-Bit-Fall schneller an - die Verwendung von 32 Bit führt zu einer schlechteren Näherung von 0,1 als bei der Verwendung von 64 Bit.\n",
    "\n",
    "Hinweis: Einige Sprachen verfügen über spezielle Werkzeuge zum Ausführen von Dezimalarithmetik (Basis 10) (z. B. https://docs.python.org/3/library/decimal.html). Dies würde beispielsweise erlauben, dass 0,1 genau dargestellt wird. Dezimalzahlen sind jedoch nicht die \"natürliche\" Arithmetik von Computern, daher kann man davon ausgehen, dass Dezimaloperationen wesentlich langsamer sind."
   ]
  },
  {
   "cell_type": "markdown",
   "metadata": {},
   "source": [
    "## Patriot Missile Failure\n",
    "\n",
    "The inexact representation of $0.1$ was the cause of the software error in the Patriot missile system (see preamble to this notebook). \n",
    "The missile system tracked time from boot (system start) using an integer counter that was incremented every $1/10$ of a second. To\n",
    "get the time in seconds, the missile software multiplied the counter by the float representation of $0.1$. \n",
    "The control software used 24 bits to store floats. The round-off error due to the inexact representation of $0.1$ lead to an error of $0.32$ s after 100 hours of operation (time since boot), which due to the high velocity of the missile was enough to cause failure to intercept the incoming Scud.\n",
    "\n",
    "We don't have 24-bit floats in Python, but we can test with 16, 32 and 64 bit floats.\n",
    "We first compute what the system counter (an integer) would be after 100 hours:\n",
    "\n",
    "Die ungenaue Darstellung von 0,1 $ war die Ursache des Softwarefehlers im Patriot-Raketensystem (siehe Präambel zu diesem Notebook).\n",
    "Das Raketensystem verfolgte die Zeit vom Start (Systemstart) aus mit einem ganzzahligen Zähler, der alle 1/10 $ einer Sekunde inkrementiert wurde. Zu\n",
    "Um die Zeit in Sekunden zu ermitteln, multiplizierte die Raketensoftware den Zähler mit der Float-Darstellung von 0,1 $.\n",
    "Die Steuerungssoftware verwendete 24 Bits zum Speichern von Floats. Der Rundungsfehler aufgrund der ungenauen Darstellung von $ 0,1 $ führte nach 100 Betriebsstunden (Zeit seit dem Start) zu einem Fehler von $ 0,32 $ s, der aufgrund der hohen Geschwindigkeit des Flugkörpers ausreichte, um das Abfangen des eingehenden Systems zu verhindern Scud\n",
    "\n",
    "Wir haben keine 24-Bit-Floats in Python, aber wir können 16, 32 und 64-Bit-Floats testen.\n",
    "Zuerst berechnen wir, wie der Systemzähler (eine ganze Zahl) nach 100 Stunden sein würde:"
   ]
  },
  {
   "cell_type": "code",
   "execution_count": 39,
   "metadata": {},
   "outputs": [],
   "source": [
    "# Compute internal system counter after 100 hours (counter increments every 1/10 s)\n",
    "num_hours = 100\n",
    "num_seconds = num_hours*60*60\n",
    "system_counter = num_seconds*10  # system clock counter"
   ]
  },
  {
   "cell_type": "markdown",
   "metadata": {},
   "source": [
    "Converting the system counter to seconds using different representations of 0.1:\n",
    "\n",
    "Konvertieren des Systemzählers in Sekunden mit unterschiedlichen Darstellungen von 0,1:"
   ]
  },
  {
   "cell_type": "code",
   "execution_count": 40,
   "metadata": {},
   "outputs": [
    {
     "name": "stdout",
     "output_type": "stream",
     "text": [
      "Time error after 100 hours using 16 bit float (s): 87.890625\n",
      "Time error after 100 hours using 32 bit float (s): 0.005364418029785156\n",
      "Time error after 100 hours using 64 bit float (s): 0.0\n"
     ]
    }
   ],
   "source": [
    "# Test with 16 bit float\n",
    "dt = np.float16(0.1)\n",
    "time = dt*system_counter\n",
    "print(\"Time error after 100 hours using 16 bit float (s):\", abs(time - num_seconds))\n",
    "\n",
    "# Test with 32 bit float\n",
    "dt = np.float32(0.1)\n",
    "time = dt*system_counter\n",
    "print(\"Time error after 100 hours using 32 bit float (s):\", abs(time - num_seconds))\n",
    "\n",
    "# Test with 64 bit float\n",
    "dt = np.float64(0.1)\n",
    "time = dt*system_counter\n",
    "print(\"Time error after 100 hours using 64 bit float (s):\", abs(time - num_seconds))"
   ]
  },
  {
   "cell_type": "markdown",
   "metadata": {},
   "source": [
    "The time computation with 16-bit floats is more than a minute off after 100 hours! The stop-gap measure \n",
    "for the Patriot missiles at the time was to reboot the missile systems frequently, thereby resetting the system counter and reducing the time error.\n",
    "\n",
    "Die Zeitberechnung mit 16-Bit-Floats beträgt nach 100 Stunden mehr als eine Minute! Das Stop-Gap-Maß\n",
    "Für die Patriot-Raketen bestand damals ein häufiger Neustart der Raketensysteme, wodurch der Systemzähler zurückgesetzt und der Zeitfehler reduziert wurde."
   ]
  },
  {
   "cell_type": "markdown",
   "metadata": {},
   "source": [
    "# Summary\n",
    "\n",
    "The key points from this activity are:\n",
    "\n",
    "- The size of an integer that a computer can store is determined by the number of bits used to represent the \n",
    "  integer.\n",
    "- Computers do not perform exact arithmetic with non-integer numbers. This does not usually cause a problem, but \n",
    "  it can in cases. Problems can often be avoided with careful programming.\n",
    "- Be thoughtful when converting between types - undesirable consequences can follow when careless with \n",
    "  conversions.\n",
    "  \n",
    "  Zusammenfassung\n",
    "\n",
    "Die wichtigsten Punkte dieser Aktivität sind:\n",
    "\n",
    "- Die Größe einer Ganzzahl, die ein Computer speichern kann, wird durch die Anzahl der für die Darstellung verwendeten Bits bestimmt\n",
    "   ganze Zahl.\n",
    "- Computer führen keine exakte Arithmetik mit nicht ganzzahligen Zahlen aus. Dies verursacht normalerweise kein Problem, aber\n",
    "   es kann in fällen. Probleme können oft durch sorgfältige Programmierung vermieden werden.\n",
    "- Seien Sie beim Konvertieren zwischen verschiedenen Typen vorsichtig - unerwünschte Konsequenzen können bei unachtsamen Folgen auftreten\n",
    "   Konvertierungen."
   ]
  },
  {
   "cell_type": "markdown",
   "metadata": {},
   "source": [
    "# Exercises\n",
    "\n",
    "Complete now the [03 Exercises](Exercises/03%20Exercises.ipynb) notebook."
   ]
  }
 ],
 "metadata": {
  "kernelspec": {
   "display_name": "Python 3",
   "language": "python",
   "name": "python3"
  },
  "language_info": {
   "codemirror_mode": {
    "name": "ipython",
    "version": 3
   },
   "file_extension": ".py",
   "mimetype": "text/x-python",
   "name": "python",
   "nbconvert_exporter": "python",
   "pygments_lexer": "ipython3",
   "version": "3.7.2"
  }
 },
 "nbformat": 4,
 "nbformat_minor": 1
}
