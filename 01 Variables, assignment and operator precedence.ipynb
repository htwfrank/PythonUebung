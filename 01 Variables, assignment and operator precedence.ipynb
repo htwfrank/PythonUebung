{
 "cells": [
  {
   "cell_type": "markdown",
   "metadata": {},
   "source": [
    "geklont con: https://github.com/CambridgeEngineering/PartIA-Computing-Michaelmas\n",
    "\n",
    "# Einführung\n",
    "\n",
    "Wir beginnen mit Variablen und mathematischen Operationen.\n",
    "\n",
    "\n",
    "## Ziele\n",
    "\n",
    "- Verstehen von Ausdrücken und Basis Operationen in Python 3\n",
    "- Zuordnung von Ausdrücken zu Variablen\n",
    "- Operator Vorrang-Regeln"
   ]
  },
  {
   "cell_type": "markdown",
   "metadata": {},
   "source": [
    "# Ausdrücke berechnen: einfache Operatoren\n",
    "\n",
    "Wir können Python im Interpreter-Modus wie einen Taschenrechner verwenden (wie übrigens auch später MatLab). Betrachte den einfachen Ausdruck $3 + 9$. Diesen können wir berechnen durch die Eingabe:"
   ]
  },
  {
   "cell_type": "code",
   "execution_count": 1,
   "metadata": {},
   "outputs": [
    {
     "data": {
      "text/plain": [
       "12"
      ]
     },
     "execution_count": 1,
     "metadata": {},
     "output_type": "execute_result"
    }
   ],
   "source": [
    "3 + 9"
   ]
  },
  {
   "cell_type": "markdown",
   "metadata": {},
   "source": [
    "Another simple calculation is the gravitational potential $V$ of a body of mass $m$ (point mass) at a distance $r$ from a body of mass $M$, which is given by\n",
    "\n",
    "$$\n",
    "V = \\frac{G M m}{r}\n",
    "$$\n",
    "\n",
    "where $G$ is the *gravitational constant*. A good approximation is $G = 6.674 \\times 10^{-11}$ N m$^{2}$ kg$^{-2}$.\n",
    "\n",
    "For the case $M = 1.65 \\times 10^{12}$ kg, $m = 6.1 \\times 10^2$ kg and $r = 7.0 \\times 10^3$ m, we can compute the  gravitational potential $V$:"
   ]
  },
  {
   "cell_type": "code",
   "execution_count": 2,
   "metadata": {},
   "outputs": [
    {
     "data": {
      "text/plain": [
       "9.59625857142857"
      ]
     },
     "execution_count": 2,
     "metadata": {},
     "output_type": "execute_result"
    }
   ],
   "source": [
    "6.674e-11*1.65e12*6.1e2/7.0e3"
   ]
  },
  {
   "cell_type": "markdown",
   "metadata": {},
   "source": [
    "Hier haben wir die 'scientific notation' für die Werte benutzt. Zum Beispiel kann die Zahl $8 \\times 10^{-2}$ so `0.08` oder so`8e-2` eingegeben werden. Das können wir leicht mittels Subtraktion überprüfen:"
   ]
  },
  {
   "cell_type": "code",
   "execution_count": 3,
   "metadata": {},
   "outputs": [
    {
     "data": {
      "text/plain": [
       "0.0"
      ]
     },
     "execution_count": 3,
     "metadata": {},
     "output_type": "execute_result"
    }
   ],
   "source": [
    "0.08 - 8e-2"
   ]
  },
  {
   "cell_type": "markdown",
   "metadata": {},
   "source": [
    "Eine oft benutzte Operation ist die Potenz einer Zahl zu bilden. Um $3^4$ zu berechnen, tippt man (ändere die Werte):"
   ]
  },
  {
   "cell_type": "code",
   "execution_count": 4,
   "metadata": {},
   "outputs": [
    {
     "data": {
      "text/plain": [
       "81"
      ]
     },
     "execution_count": 4,
     "metadata": {},
     "output_type": "execute_result"
    }
   ],
   "source": [
    "3**4"
   ]
  },
  {
   "cell_type": "markdown",
   "metadata": {},
   "source": [
    "Ein Rest bei der Division wird durch den Modulus Operator berechnet '`%`':"
   ]
  },
  {
   "cell_type": "code",
   "execution_count": 5,
   "metadata": {},
   "outputs": [
    {
     "data": {
      "text/plain": [
       "2"
      ]
     },
     "execution_count": 5,
     "metadata": {},
     "output_type": "execute_result"
    }
   ],
   "source": [
    "11 % 3"
   ]
  },
  {
   "cell_type": "markdown",
   "metadata": {},
   "source": [
    "Das Ergebnis der ganzzahligen Division erhält man mit dem Symbol '`//`':"
   ]
  },
  {
   "cell_type": "code",
   "execution_count": 6,
   "metadata": {},
   "outputs": [
    {
     "data": {
      "text/plain": [
       "3"
      ]
     },
     "execution_count": 6,
     "metadata": {},
     "output_type": "execute_result"
    }
   ],
   "source": [
    "11 // 3"
   ]
  },
  {
   "cell_type": "markdown",
   "metadata": {},
   "source": [
    "# Operator precedence\n",
    "\n",
    "Operator precedence refers to the order in which operations are performed, e.g. multiplication before addition.\n",
    "In the preceding examples, there was no ambiguity as to the order of the operations. However, there are common cases where order does matter, and there are two points to consider:\n",
    "\n",
    "- The expression should be evaluated correctly; and \n",
    "- The expression should be simple enough for someone else reading the code to understand what operation is being \n",
    "  performed.\n",
    "\n",
    "It is possible to write code that is correct, but which might be very difficult for someone else (or you) to check.\n",
    "\n",
    "Most programming languages, including Python, follow the usual mathematical rules for precedence. We explore this through some examples."
   ]
  },
  {
   "cell_type": "markdown",
   "metadata": {},
   "source": [
    "Consider the expression $4 \\cdot (7 - 2) = 20$. If we are careless, "
   ]
  },
  {
   "cell_type": "code",
   "execution_count": 7,
   "metadata": {},
   "outputs": [
    {
     "data": {
      "text/plain": [
       "26"
      ]
     },
     "execution_count": 7,
     "metadata": {},
     "output_type": "execute_result"
    }
   ],
   "source": [
    "4*7 - 2"
   ]
  },
  {
   "cell_type": "markdown",
   "metadata": {},
   "source": [
    "Im obigen Beispiel wird `4*7` natürlich zuerst berechnet,danach wird die `2` subtrahiert, da Punkt- vor Strichrechnung geht, wie wir es in der Schule gelernt haben. Durch Klammern kann man die Prioritäten verändern:"
   ]
  },
  {
   "cell_type": "code",
   "execution_count": 8,
   "metadata": {},
   "outputs": [
    {
     "data": {
      "text/plain": [
       "20"
      ]
     },
     "execution_count": 8,
     "metadata": {},
     "output_type": "execute_result"
    }
   ],
   "source": [
    "4*(7 - 2)"
   ]
  },
  {
   "cell_type": "markdown",
   "metadata": {},
   "source": [
    "Hier ist ein Beispiel, wo die Lesbarkeit im Vordergrund steht: \n",
    "\n",
    "$$\n",
    "\\frac{10}{2 \\times 50} = 0.1\n",
    "$$\n",
    "\n",
    "Der Code"
   ]
  },
  {
   "cell_type": "code",
   "execution_count": 9,
   "metadata": {},
   "outputs": [
    {
     "data": {
      "text/plain": [
       "250.0"
      ]
     },
     "execution_count": 9,
     "metadata": {},
     "output_type": "execute_result"
    }
   ],
   "source": [
    "10/2*50"
   ]
  },
  {
   "cell_type": "markdown",
   "metadata": {},
   "source": [
    "ist inkorrekt. Multiplikation und Division haben den gleichen Rang, so dass der Ausdruck 'left-to-right' berechnet wird. Das korrekte Ergebnis wird so berechnet:"
   ]
  },
  {
   "cell_type": "code",
   "execution_count": 10,
   "metadata": {},
   "outputs": [
    {
     "data": {
      "text/plain": [
       "0.1"
      ]
     },
     "execution_count": 10,
     "metadata": {},
     "output_type": "execute_result"
    }
   ],
   "source": [
    "10/2/50"
   ]
  },
  {
   "cell_type": "markdown",
   "metadata": {},
   "source": [
    "Aber das ist verwirrend und schwer zu lesen. Man sollte Klammern verwenden um es lesbarer zu machen:"
   ]
  },
  {
   "cell_type": "code",
   "execution_count": 11,
   "metadata": {},
   "outputs": [
    {
     "data": {
      "text/plain": [
       "0.1"
      ]
     },
     "execution_count": 11,
     "metadata": {},
     "output_type": "execute_result"
    }
   ],
   "source": [
    "10/(2*50)"
   ]
  },
  {
   "cell_type": "markdown",
   "metadata": {},
   "source": [
    "Das nächste Beispiel berechnet $2^{3} \\cdot 4 = 32$ welches technisch korrekt ist, aber nicht ideal lesbar:"
   ]
  },
  {
   "cell_type": "code",
   "execution_count": 12,
   "metadata": {},
   "outputs": [
    {
     "data": {
      "text/plain": [
       "32"
      ]
     },
     "execution_count": 12,
     "metadata": {},
     "output_type": "execute_result"
    }
   ],
   "source": [
    "2**3*4"
   ]
  },
  {
   "cell_type": "markdown",
   "metadata": {},
   "source": [
    "Bessere Variante:"
   ]
  },
  {
   "cell_type": "code",
   "execution_count": 13,
   "metadata": {},
   "outputs": [
    {
     "data": {
      "text/plain": [
       "32"
      ]
     },
     "execution_count": 13,
     "metadata": {},
     "output_type": "execute_result"
    }
   ],
   "source": [
    "(2**3)*4"
   ]
  },
  {
   "cell_type": "markdown",
   "metadata": {},
   "source": [
    "# Variables and assignment\n",
    "\n",
    "The above code snippets were helpful for doing some arithmetic, but we could easily do the same with a pocket calculator. Also, the snippets are not very helpful if we want to change the value of one of the numbers in an expression, and not very helpful if we wanted to use the value of the expression in a subsequent computation. To improve things, we need *assignment*.\n",
    "\n",
    "When we compute something, we usually want to store the result so that we can use it in subsequent computations. *Variables* are what we use to store something, e.g.:\n",
    "\n",
    "Die obigen Codeausschnitte waren hilfreich für einige Berechnungen, aber wir könnten das auch mit einem Taschenrechner tun. Die Ausschnitte sind auch nicht sehr hilfreich, wenn Sie den Wert einer der Zahlen in einem Ausdruck ändern möchten, und nicht sehr hilfreich, wenn Sie den Wert des Ausdrucks in einer nachfolgenden Berechnung verwenden möchten. Um die Dinge zu verbessern, benötigen wir * Zuweisung *.\n",
    "\n",
    "Wenn wir etwas berechnen, möchten wir normalerweise das Ergebnis speichern, damit wir es in nachfolgenden Berechnungen verwenden können. * Variablen * verwenden wir, um etwas zu speichern, z."
   ]
  },
  {
   "cell_type": "code",
   "execution_count": 14,
   "metadata": {},
   "outputs": [
    {
     "name": "stdout",
     "output_type": "stream",
     "text": [
      "10\n"
     ]
    }
   ],
   "source": [
    "c = 10\n",
    "print(c)"
   ]
  },
  {
   "cell_type": "markdown",
   "metadata": {},
   "source": [
    "Above, the variable `c` is used to 'hold' the value `10`. The function `print` is used to print the value of a variable to the output (more on functions later).\n",
    "\n",
    "Say we want to compute $c = a + b$, where $a = 2$ and $b = 11$:\n",
    "\n",
    "Die Funktion print wird verwendet, um den Wert einer Variablen zur Ausgabe zu drucken (mehr zu den Funktionen später).\n",
    "\n",
    "Sagen wir, wir wollen berechnen"
   ]
  },
  {
   "cell_type": "code",
   "execution_count": 15,
   "metadata": {},
   "outputs": [
    {
     "name": "stdout",
     "output_type": "stream",
     "text": [
      "13\n"
     ]
    }
   ],
   "source": [
    "a = 2\n",
    "b = 11\n",
    "c = a + b\n",
    "print(c)"
   ]
  },
  {
   "cell_type": "markdown",
   "metadata": {},
   "source": [
    "What is happening above is that the expression on the right-hand side of the assignment operator '`=`' is evaluated and then stored as the variable on the left-hand side. You can think of the variable as a 'handle' for a value.\n",
    "If we want to change the value of $a$ to $4$ and recompute the sum, we would just replace `a = 2` with `a = 4` and execute the code (try this yourself by running this notebook interactively).\n",
    "\n",
    "The above looks much like standard algebra. There are however some subtle differences. Take for example:\n",
    "\n",
    "Was oben passiert, ist, dass der Ausdruck auf der rechten Seite des Zuweisungsoperators '`=' 'ausgewertet wird und dann als Variable auf der linken Seite gespeichert wird. Sie können sich die Variable als 'Handle' für einen Wert vorstellen.\n",
    "Wenn wir den Wert von $ a $ in $ 4 $ ändern und die Summe neu berechnen möchten, würden wir einfach \"a = 2\" durch \"a = 4\" ersetzen und den Code ausführen (versuchen Sie dies selbst, indem Sie dieses Notizbuch interaktiv ausführen).\n",
    "\n",
    "Das oben Genannte sieht aus wie Standardalgebra. Es gibt jedoch einige subtile Unterschiede. Nehmen Sie zum Beispiel:"
   ]
  },
  {
   "cell_type": "code",
   "execution_count": 16,
   "metadata": {},
   "outputs": [
    {
     "name": "stdout",
     "output_type": "stream",
     "text": [
      "13\n"
     ]
    }
   ],
   "source": [
    "a = 2\n",
    "b = 11\n",
    "a = a + b\n",
    "print(a)"
   ]
  },
  {
   "cell_type": "markdown",
   "metadata": {},
   "source": [
    "This is not a valid algebraic statement since '`a`' appears on both sides of '`=`', but it is a very common statement in a computer program. What happens is that the expression on the right-hand side is evaluated (the values assigned to `a` and `b` are summed), and the result is assigned to the left-hand side (to the variable `a`). There is a mathematical notation for this type of assignment:\n",
    "\n",
    "Dies ist keine gültige algebraische Anweisung, da 'a' auf beiden Seiten von '=' angezeigt wird, es ist jedoch eine sehr häufige Anweisung in einem Computerprogramm. Was passiert ist, dass der Ausdruck auf der rechten Seite ausgewertet wird (die Werte, die a und b zugewiesen werden, werden summiert), und das Ergebnis wird der linken Seite (der Variablen a) zugewiesen. Für diese Art der Zuordnung gibt es eine mathematische Notation:\n",
    "\n",
    "$$\n",
    "a \\leftarrow a +b \n",
    "$$\n",
    "\n",
    "which says 'sum $a$ and $b$, and copy the result to $a$'. You will see this notation in some books, especially when looking at *algorithms*.\n",
    "Diese Notation wird in einigen Büchern vorkommen, insbesondere bei * Algorithmen *."
   ]
  },
  {
   "cell_type": "markdown",
   "metadata": {},
   "source": [
    "## Shortcuts\n",
    "\n",
    "Adding or subtracting variables is such a common operation that most languages provides shortcuts. For addition:\n",
    "Das Hinzufügen oder Subtrahieren von Variablen ist eine solche häufige Operation, dass die meisten Sprachen Verknüpfungen bereitstellen. Zusätzlich:"
   ]
  },
  {
   "cell_type": "code",
   "execution_count": 17,
   "metadata": {},
   "outputs": [
    {
     "name": "stdout",
     "output_type": "stream",
     "text": [
      "5\n",
      "5\n"
     ]
    }
   ],
   "source": [
    "# Long-hand addition\n",
    "a = 1\n",
    "a = a + 4\n",
    "print(a)\n",
    "\n",
    "# Short-hand addition\n",
    "a = 1\n",
    "a += 4\n",
    "print(a)"
   ]
  },
  {
   "cell_type": "markdown",
   "metadata": {},
   "source": [
    "> In Python, any text following the hash (`#`) symbol is a 'comment'. Comments are not executed by the program; \n",
    "> they help us document and explain what our programs do. Use lots of comments in your programs.\n",
    "In Python ist jeder Text, der auf das Hash-Zeichen (#) folgt, ein 'Kommentar'. Kommentare werden vom Programm nicht ausgeführt. Sie helfen uns zu dokumentieren und zu erklären, was unsere Programme tun. Verwenden Sie viele Kommentare in Ihren Programmen.\n",
    "\n",
    "For subtraction:"
   ]
  },
  {
   "cell_type": "code",
   "execution_count": 18,
   "metadata": {},
   "outputs": [
    {
     "name": "stdout",
     "output_type": "stream",
     "text": [
      "-3\n",
      "-3\n"
     ]
    }
   ],
   "source": [
    "# Long-hand subtraction\n",
    "a = 1\n",
    "b = 4\n",
    "a = a - b\n",
    "print(a)\n",
    "\n",
    "# Short-hand subtraction\n",
    "a = 1\n",
    "b = 4\n",
    "a -= b\n",
    "print(a)"
   ]
  },
  {
   "cell_type": "markdown",
   "metadata": {},
   "source": [
    "Analogous assignment operators exist for multiplication and division:\n",
    "Analoge Zuweisungsoperatoren existieren für Multiplikation und Division:"
   ]
  },
  {
   "cell_type": "code",
   "execution_count": 19,
   "metadata": {},
   "outputs": [
    {
     "name": "stdout",
     "output_type": "stream",
     "text": [
      "20\n",
      "20\n",
      "0.25\n",
      "0.25\n"
     ]
    }
   ],
   "source": [
    "# Long-hand multiplication\n",
    "a = 10\n",
    "c = 2\n",
    "a = c*a\n",
    "print(a)\n",
    "\n",
    "# Short-hand multiplication\n",
    "a = 10\n",
    "c = 2\n",
    "a *= c\n",
    "print(a)\n",
    "\n",
    "# Long-hand division\n",
    "a = 1\n",
    "a = a/4\n",
    "print(a)\n",
    "\n",
    "# Short-hand division\n",
    "a = 1\n",
    "a /= 4\n",
    "print(a)"
   ]
  },
  {
   "cell_type": "markdown",
   "metadata": {},
   "source": [
    "## Naming variables\n",
    "\n",
    "It is good practice to use meaningful variable names in a computer program. Say you used  '`x`' for time, and '`t`' for position, you or someone else will almost certainly make errors at some point.\n",
    "If you do not use well considered variable names:\n",
    "\n",
    "1. You're much more likely to make errors.\n",
    "1. When you come back to your program after some time, you will have trouble recalling and understanding \n",
    "   what the program does.\n",
    "1. It will be difficult for others to understand your program - serious programming is almost always a team effort.\n",
    "\n",
    "Languages have rules for what charcters can be used in variable names. As a rough guide, in Python variable names can use letters and digits, but cannot start with a digit.\n",
    "\n",
    "Sometimes for readability it is useful to have variable names that are made up of two words. A convention is\n",
    "to separate the words in the variable name using an underscore '`_`'. For example, a good variable name for storing the number of days would be \n",
    "```python\n",
    "num_days = 10\n",
    "```\n",
    "Python is a case-sensitive language, e.g. the variables '`A`' and '`a`' are different. Some languages, such as\n",
    "Fortran, are case-insensitive.\n",
    "\n",
    "Languages have reserved keywords that cannot be used as variable names as they are used for other purposes. The reserved keywords in Python are:\n",
    "Es empfiehlt sich, sinnvolle Variablennamen in einem Computerprogramm zu verwenden. Angenommen, Sie haben 'x' für die Zeit verwendet, und 't' für die Position. Irgendwann werden Sie oder eine andere Person höchstwahrscheinlich Fehler machen. Wenn Sie keine wohlüberlegten Variablennamen verwenden:\n",
    "\n",
    "Sie machen viel eher Fehler.\n",
    "Wenn Sie nach einiger Zeit wieder zu Ihrem Programm zurückkehren, werden Sie Schwierigkeiten haben, sich daran zu erinnern, was das Programm macht.\n",
    "Es wird für andere schwierig sein, Ihr Programm zu verstehen - ernsthafte Programmierung ist fast immer eine Teamarbeit.\n",
    "Sprachen haben Regeln dafür, welche Zeichen in Variablennamen verwendet werden können. Als grobe Richtlinie können Variablennamen in Python Buchstaben und Ziffern verwenden, dürfen jedoch nicht mit einer Ziffer beginnen.\n",
    "\n",
    "Aus Gründen der Lesbarkeit ist es manchmal nützlich, Variablennamen zu verwenden, die aus zwei Wörtern bestehen. Eine Konvention besteht darin, die Wörter im Variablennamen durch einen Unterstrich '_' zu trennen. Ein guter Variablenname zum Speichern der Anzahl von Tagen wäre beispielsweise\n",
    "\n",
    "Python ist eine von Groß- und Kleinschreibung abhängige Sprache, z. Die Variablen \"A\" und \"A\" unterscheiden sich. Einige Sprachen, wie z\n",
    "Fortran, unterscheidet nicht zwischen Groß- und Kleinschreibung.\n",
    "\n",
    "Sprachen haben reservierte Schlüsselwörter, die nicht als Variablennamen verwendet werden können, da sie für andere Zwecke verwendet werden. Die reservierten Schlüsselwörter in Python sind:"
   ]
  },
  {
   "cell_type": "code",
   "execution_count": 20,
   "metadata": {},
   "outputs": [
    {
     "name": "stdout",
     "output_type": "stream",
     "text": [
      "['False', 'None', 'True', 'and', 'as', 'assert', 'break', 'class', 'continue', 'def', 'del', 'elif', 'else', 'except', 'finally', 'for', 'from', 'global', 'if', 'import', 'in', 'is', 'lambda', 'nonlocal', 'not', 'or', 'pass', 'raise', 'return', 'try', 'while', 'with', 'yield']\n"
     ]
    }
   ],
   "source": [
    "import keyword\n",
    "print(keyword.kwlist)"
   ]
  },
  {
   "cell_type": "markdown",
   "metadata": {},
   "source": [
    "If you try to assign something to a reserved keyword, you will get an error.\n",
    "\n",
    "Python 3 supports Unicode, which allows you to use a very wide range of symbols, including Greek characters:\n",
    "Wenn Sie versuchen, einem reservierten Schlüsselwort etwas zuzuweisen, wird eine Fehlermeldung angezeigt.\n",
    "\n",
    "Python 3 unterstützt Unicode, wodurch Sie eine Vielzahl von Symbolen verwenden können, einschließlich griechischer Zeichen:"
   ]
  },
  {
   "cell_type": "code",
   "execution_count": 21,
   "metadata": {},
   "outputs": [
    {
     "name": "stdout",
     "output_type": "stream",
     "text": [
      "22\n"
     ]
    }
   ],
   "source": [
    "θ = 10\n",
    "α = 12\n",
    "β = θ + α\n",
    "print(β)"
   ]
  },
  {
   "cell_type": "markdown",
   "metadata": {},
   "source": [
    "Greek symbols and other symbols can be input in a Jupyter notebook by typing the LaTeX command for the symbol and then pressing the `tab` key, e.g. '`\\theta`' followed by pressing the `tab` key.\n",
    "Griechische Symbole und andere Symbole können in ein Jupyter-Notizbuch eingegeben werden, indem Sie den LaTeX-Befehl für das Symbol eingeben und dann die Tab-Taste drücken, z. \"\\ theta\" gefolgt von der \"Tab\" -Taste."
   ]
  },
  {
   "cell_type": "markdown",
   "metadata": {},
   "source": [
    "# Exercises\n",
    "\n",
    "Complete now the [01 Exercises](Exercises/01%20Exercises.ipynb) notebook."
   ]
  }
 ],
 "metadata": {
  "kernelspec": {
   "display_name": "Python 3",
   "language": "python",
   "name": "python3"
  },
  "language_info": {
   "codemirror_mode": {
    "name": "ipython",
    "version": 3
   },
   "file_extension": ".py",
   "mimetype": "text/x-python",
   "name": "python",
   "nbconvert_exporter": "python",
   "pygments_lexer": "ipython3",
   "version": "3.7.2"
  }
 },
 "nbformat": 4,
 "nbformat_minor": 1
}
